{
 "cells": [
  {
   "cell_type": "markdown",
   "metadata": {
    "colab_type": "text",
    "id": "JGsno5wLmoeT"
   },
   "source": [
    "<h1><center>CS 464</center></h1>\n",
    "<h1><center>Introduction Machine Learning</center></h1>\n",
    "<h1><center>Spring 2019</center></h1>\n",
    "<h1><center>Homework 3</center></h1>"
   ]
  },
  {
   "cell_type": "markdown",
   "metadata": {
    "colab_type": "text",
    "id": "4C4ayUIJmoeV"
   },
   "source": [
    "<h3><center>Due: May 21, 2019 23:59</center></h3>"
   ]
  },
  {
   "cell_type": "markdown",
   "metadata": {
    "colab_type": "text",
    "id": "N5pjNVhImoeW"
   },
   "source": [
    "## Instructions"
   ]
  },
  {
   "cell_type": "markdown",
   "metadata": {
    "colab_type": "text",
    "id": "CKUHszY5moeW"
   },
   "source": [
    "<ul>\n",
    "    <li>This homework contains both written and programming questions about neural networks. You should implement your programming questions on this notebook. Your plots should also be produced in this notebook. Each programming question has its own cell for your answer. You can implement your code directly in these cells. You should upload this .ipynb file with the computed output cells for each code cell.\n",
    "    </li>\n",
    "    <li>\n",
    "        For questions that you need to plot, your plot results have to be included in cell output.\n",
    "    </li>\n",
    "    <li>\n",
    "        It is <b>NOT ALLOWED</b> to use different libraries than given libraries which are defined in the required packages section.\n",
    "    </li>\n",
    "    <li>\n",
    "        It is <b>NOT ALLOWED</b> to use a different deep learning framework than PyTorch.\n",
    "    </li>\n",
    "    <li>\n",
    "        In this homework, you have to implement programming questions on <b>Python 3</b> version programming language.\n",
    "    </li>\n",
    "    <li>\n",
    "        While submitting the homework file, please package your notebook(\".ipynb\") files as a gzipped TAR file or a ZIP file with the name CS464_HW3_Firstname_Lastname. Please do not use any Turkish letters for any of your files including code files and report file. Upload your homework to Moodle.\n",
    "    </li>\n",
    "    <li>\n",
    "        Any violation of these rules may lead to significant grade deduction.\n",
    "    </li>\n",
    "    <li>\n",
    "        if your code cell does not return outputs correctly, you will lose points for the corresponding question.\n",
    "    </li>\n",
    "    <li> You can send an email for your questions to <b>can.uner@bilkent.edu.tr</b> address.</li>\n",
    "    <li> You can use Google Colab or your own local environment for this homework. You can prefer Google Colab since you have access to GPUs. You do not have to use GPUs to complete this homework though. If you prefer to use your local system, you should follow the below \"Environmental Setup\" instructions.</li>\n",
    "</ul>"
   ]
  },
  {
   "cell_type": "markdown",
   "metadata": {
    "colab_type": "text",
    "id": "W8jLe4L6moeX"
   },
   "source": [
    "## Environment Setup"
   ]
  },
  {
   "cell_type": "markdown",
   "metadata": {
    "colab_type": "text",
    "id": "DOKBRHozmoeY"
   },
   "source": [
    "### Anaconda Installation"
   ]
  },
  {
   "cell_type": "markdown",
   "metadata": {
    "colab_type": "text",
    "id": "8ww6PftGmoeZ"
   },
   "source": [
    "<ul>\n",
    "    <li>Download anaconda from https://www.anaconda.com/download</li>\n",
    "    <li>Follow the instructions provided in https://conda.io/docs/user-guide/install/index.html#regular-installation</li>\n",
    "</ul>"
   ]
  },
  {
   "cell_type": "markdown",
   "metadata": {
    "colab_type": "text",
    "id": "4pQuXhS_moeZ"
   },
   "source": [
    "### Creation of Virtual Environment"
   ]
  },
  {
   "cell_type": "markdown",
   "metadata": {
    "colab_type": "text",
    "id": "hPus3ySdmoea"
   },
   "source": [
    "<ul>\n",
    "    <li>Create python3.7 virtual environment for your hw3 using follow command from the command line<br>\n",
    "        <i>> conda create -n HW3 python=3.7 anaconda</i></li>\n",
    "    <li>Activate your virtual environment<br>\n",
    "        <i>> source activate HW3</i></li>\n",
    "    <li>To install auxiliary libraries create \"requirements.txt\" file which contains given required packages and run following command in the activated \"hw3\" environment<br>\n",
    "        <i>> pip install -r requirements.txt<i></li>\n",
    "     <li>When you create your virtual environment with \"anaconda\" metapackage, jupyter notebook should be installed. Try:<br>\n",
    "         <i>> jupyter notebook</i>\n",
    "</ul>"
   ]
  },
  {
   "cell_type": "markdown",
   "metadata": {
    "colab_type": "text",
    "id": "uf_KsIjPmoeb"
   },
   "source": [
    "### Pytorch Installation"
   ]
  },
  {
   "cell_type": "markdown",
   "metadata": {
    "colab_type": "text",
    "id": "wHK14Sy6moec"
   },
   "source": [
    "You should install PyTorch to your virtual environment which is created for the hw3. Therefore, you should activate your homework virtual environment before to start PyTorch installation.\n",
    "<li>> source activate HW3</li>\n",
    "\n",
    "After you have activated the virtual environment, then use one of the following commands to install pytorch for CPU for your system. See https://pytorch.org/ for help.\n",
    "<ul>\n",
    "<li>For MacOS:<br>\n",
    "    <i>> conda install pytorch torchvision -c pytorch</i>\n",
    "</li>\n",
    "<li>For Linux:<br>\n",
    "    <i>> conda install pytorch-cpu torchvision-cpu -c pytorch</i>\n",
    "</li>\n",
    "<li>For Windows:<br>\n",
    "    <i>> conda install pytorch-cpu torchvision-cpu -c pytorch</i><br>\n",
    "</li>\n",
    "\n",
    "If your system has appropriate GPU Driver, CUDA and CuDNN installations, then you can use GPU supported PyTorch as well."
   ]
  },
  {
   "cell_type": "markdown",
   "metadata": {
    "colab_type": "text",
    "id": "xW-9Frh4moec"
   },
   "source": [
    "### Required Packages"
   ]
  },
  {
   "cell_type": "markdown",
   "metadata": {
    "colab_type": "text",
    "id": "u-G_e8pYmoed"
   },
   "source": [
    "Additional required packages except PyTorch and Torchvision are defined below."
   ]
  },
  {
   "cell_type": "code",
   "execution_count": 0,
   "metadata": {
    "colab": {},
    "colab_type": "code",
    "id": "QTv9_LcGmoee"
   },
   "outputs": [],
   "source": [
    "from __future__ import print_function, division\n",
    "import os\n",
    "import torch\n",
    "import time\n",
    "import pandas as pd\n",
    "from PIL import Image\n",
    "import scipy\n",
    "import numpy as np\n",
    "import itertools\n",
    "import matplotlib.pyplot as plt\n",
    "from torch.utils.data import Dataset, DataLoader\n",
    "from torch.autograd import Variable\n",
    "import torch.optim as optim\n",
    "import torch.nn.functional as F\n",
    "from torch.utils.data.sampler import SubsetRandomSampler\n",
    "from torchvision import transforms, utils, datasets, models"
   ]
  },
  {
   "cell_type": "code",
   "execution_count": 2,
   "metadata": {
    "colab": {
     "base_uri": "https://localhost:8080/",
     "height": 122
    },
    "colab_type": "code",
    "id": "buAbuEzrm1fl",
    "outputId": "46aa0bca-7c88-494e-dfd2-4c7973883961"
   },
   "outputs": [
    {
     "name": "stdout",
     "output_type": "stream",
     "text": [
      "Go to this URL in a browser: https://accounts.google.com/o/oauth2/auth?client_id=947318989803-6bn6qk8qdgf4n4g3pfee6491hc0brc4i.apps.googleusercontent.com&redirect_uri=urn%3Aietf%3Awg%3Aoauth%3A2.0%3Aoob&scope=email%20https%3A%2F%2Fwww.googleapis.com%2Fauth%2Fdocs.test%20https%3A%2F%2Fwww.googleapis.com%2Fauth%2Fdrive%20https%3A%2F%2Fwww.googleapis.com%2Fauth%2Fdrive.photos.readonly%20https%3A%2F%2Fwww.googleapis.com%2Fauth%2Fpeopleapi.readonly&response_type=code\n",
      "\n",
      "Enter your authorization code:\n",
      "··········\n",
      "Mounted at /content/drive\n"
     ]
    }
   ],
   "source": [
    "from google.colab import drive\n",
    "drive.mount('/content/drive')"
   ]
  },
  {
   "cell_type": "code",
   "execution_count": 0,
   "metadata": {
    "colab": {},
    "colab_type": "code",
    "id": "GxwI7EcDm2Ej"
   },
   "outputs": [],
   "source": [
    "# Images\n",
    "!cp -R drive/My\\ Drive/ML-HW3/indoor_data /content/"
   ]
  },
  {
   "cell_type": "code",
   "execution_count": 4,
   "metadata": {
    "colab": {
     "base_uri": "https://localhost:8080/",
     "height": 34
    },
    "colab_type": "code",
    "id": "gk-XQr1om40n",
    "outputId": "a8bd3f97-5ea5-4dfa-8ede-4c4b358a794a"
   },
   "outputs": [
    {
     "name": "stdout",
     "output_type": "stream",
     "text": [
      "drive  indoor_data  sample_data\n"
     ]
    }
   ],
   "source": [
    "!ls"
   ]
  },
  {
   "cell_type": "markdown",
   "metadata": {
    "colab_type": "text",
    "id": "LVj3djXqmoeh"
   },
   "source": [
    "## Question 1 - 35 pts"
   ]
  },
  {
   "cell_type": "markdown",
   "metadata": {
    "colab_type": "text",
    "id": "t0t9QCmAmoei"
   },
   "source": [
    "In this question, you are going to implement a Convolutional Neural Network (CNN) to solve the indoor scene recognition problem. The provided subset of [MIT Indoor67 dataset](http://web.mit.edu/torralba/www/indoor.html) contains images of 10 indoor categories which are <i>bakery, toyshop, dining room, bathroom, library, pool inside, gym, bowling, computer room, hospital room.</i>\n",
    "\n",
    "In this question, you are going to compare transfer learning and from scratch training approaches."
   ]
  },
  {
   "cell_type": "markdown",
   "metadata": {
    "colab_type": "text",
    "id": "Uyw7HnCSmoej"
   },
   "source": [
    "### Q1.a. Data Loader - 10 pts"
   ]
  },
  {
   "cell_type": "markdown",
   "metadata": {
    "colab_type": "text",
    "id": "bZPHMJ1Umoek"
   },
   "source": [
    "We provide you a subset of MIT Indoor dataset. Download our version of MIT Indoor10 dataset from Moodle. You have to implement a custom data loader for the indoor dataset. You can visit [link](https://pytorch.org/tutorials/beginner/data_loading_tutorial.html) to implement such a data loader. There will be a comparison of training approaches in this question. <b>Both approaches have to use exactly the same splits (training, test, and validation) to make their performance results comparable.</b>\n",
    "\n",
    "1. <font color=blue>\\[Code\\]</font> Split the dataset as training, test, and validation sets. For each class, 20% of its samples should be in test set and 10% of its samples should be in the validation set. \n",
    "2. <font color=blue>\\[Code\\]</font> Apply appropriate augmentations to the set(s) for which it is essential.\n",
    "3. <font color=blue>\\[Written\\]</font> Give details about data loading and augmentation steps. How many training, test and validation samples do exist for each class? Do you need to apply augmentations for training, test, and validation sets? Why or why not?"
   ]
  },
  {
   "cell_type": "code",
   "execution_count": 0,
   "metadata": {
    "colab": {},
    "colab_type": "code",
    "id": "glUkQ7HUmoel"
   },
   "outputs": [],
   "source": [
    "# USE THIS CODE CELL TO SPECIFY ROOT PATH FOR THE DATASET.\n",
    "\n",
    "# IF YOU USE GOOGLE COLAB, DATA PATH EXAMPLE: \n",
    "# root_dir = '/content/gdrive/My\\ Drive/CS464/HW3/indoor_data'\n",
    "# -------------------------------------------------------\n",
    "\n",
    "# IF YOU USE LOCAL ENVIRONMENT, DATA PATH EXAMPLE:\n",
    "# root_dir = '/home/user/CS464/HW3/indoor_data'\n",
    "# -------------------------------------------------------\n",
    "#root_dir = 'C:/Users/kerem/Desktop/HW3/indoor_data/' # change the value of root_dir variable as your root path\n",
    "root_dir = '/content/indoor_data/'"
   ]
  },
  {
   "cell_type": "code",
   "execution_count": 0,
   "metadata": {
    "colab": {},
    "colab_type": "code",
    "id": "2oPOBZ1kmoen"
   },
   "outputs": [],
   "source": [
    "def load_dataset(datadir, batch_size=None):\n",
    "    sizes = []\n",
    "    _, dirs, _ = next(os.walk(root_dir))\n",
    "    for d in dirs:\n",
    "        _, _, files = next(os.walk(os.path.join(root_dir, d)))\n",
    "        sizes.append(len(files))\n",
    "    sizes = np.array(sizes)\n",
    "    data_transform = transforms.Compose([transforms.Resize(256), transforms.RandomCrop(224), transforms.ToTensor(), transforms.Normalize(([127.5,127.5,127.5]),[127.5,127.5,127.5])])\n",
    "    \n",
    "    train_data = datasets.ImageFolder(datadir, transform=data_transform) #70\n",
    "    validation_data = datasets.ImageFolder(datadir, transform=data_transform) #10\n",
    "    test_data = datasets.ImageFolder(datadir, transform=data_transform) #20\n",
    "    \n",
    "    train_total = []\n",
    "    val_total = []\n",
    "    test_total = []\n",
    "    \n",
    "    prev_size = 0\n",
    "    for i in range(len(sizes)):\n",
    "        indices = np.arange(sizes[i])\n",
    "        train_split = int(np.floor(0.7 * sizes[i]))\n",
    "        val_split = int(np.floor(0.8 * sizes[i]))   \n",
    "        np.random.shuffle(indices)\n",
    "        train_idx, val_idx, test_idx = indices[0:train_split], indices[train_split:val_split], indices[val_split:]\n",
    "        #print(\"Train, Validation, Test\")\n",
    "        #print(len(train_idx), len(val_idx), len(test_idx))\n",
    "        train_total = [*train_total, *(train_idx+prev_size)]\n",
    "        val_total = [*val_total, *(val_idx+prev_size)]\n",
    "        test_total = [*test_total, *(test_idx+prev_size)]\n",
    "        prev_size += sizes[i]\n",
    "\n",
    "    train_sampler = SubsetRandomSampler(train_total)\n",
    "    val_sampler = SubsetRandomSampler(val_total)\n",
    "    test_sampler = SubsetRandomSampler(test_total)\n",
    "    \n",
    "    if batch_size == None:\n",
    "        trainloader = torch.utils.data.DataLoader(train_data, sampler=train_sampler, batch_size=len(train_data))\n",
    "        valloader = torch.utils.data.DataLoader(validation_data, sampler=val_sampler, batch_size=len(validation_data))\n",
    "        testloader = torch.utils.data.DataLoader(test_data, sampler=test_sampler, batch_size=len(test_data))\n",
    "    else:\n",
    "        trainloader = torch.utils.data.DataLoader(train_data, sampler=train_sampler, batch_size=batch_size)\n",
    "        valloader = torch.utils.data.DataLoader(validation_data, sampler=val_sampler, batch_size=batch_size)\n",
    "        testloader = torch.utils.data.DataLoader(test_data, sampler=test_sampler, batch_size=batch_size)\n",
    "    \n",
    "    return trainloader,valloader, testloader"
   ]
  },
  {
   "cell_type": "markdown",
   "metadata": {
    "colab_type": "text",
    "id": "HWz4kLrSmoew"
   },
   "source": [
    "<b>Answer for Q1.a.3: </b> \n",
    "\n",
    "<b> Give details about data loading and augmentation steps. How many training, test and validation samples do exist for each class? Do you need to apply augmentations for training, test, and validation sets? Why or why not? </b>\n",
    "\n",
    "<font>I used torchvision.datasets.ImageFolder class to load data with folder names as labels. It is very convenient to use. Then I randomly splitted the train and test dataset with the given 80-20 ratio. I used SubsetRandomSampler from torch library to shuffle the data. Then I use DataLoader class to load my final tensors for training and test data. I used 2 augmentation methods; Resize and RandomCrop. First I resized each image to 256 pixels with keeping aspect ratio, then I randomly cropped (224,224) pixels of each image to increase the performance of CNN that I train. After these operations each image have the size (224,224). Then I returned the final tensors by using ToTensor augmentation method. These methods are in torchvision.transform library. These are the number of train, validation and test instances for each class in our dataset. </font>\n",
    "\n",
    "<table style=\"width:100%\">\n",
    "  <tr>\n",
    "  \t<th>Class</th>\n",
    "    <th>Train</th>\n",
    "    <th>Validation</th>\n",
    "    <th>Test</th>\n",
    "  </tr>\n",
    "  <tr>\n",
    "    <td>Bakery</td>\n",
    "    <td>283</td>\n",
    "    <td>41</td>\n",
    "    <td>82</td>\n",
    "  </tr>\n",
    "  <tr>\n",
    "    <td>Bathroom</td>\n",
    "    <td>137</td>\n",
    "    <td>20</td>\n",
    "    <td>40</td>\n",
    "  </tr>\n",
    "  <tr>\n",
    "    <td>Bowling</td>\n",
    "    <td>149</td>\n",
    "    <td>21</td>\n",
    "    <td>43</td>\n",
    "  </tr>\n",
    "  <tr>\n",
    "    <td>ComputerRoom</td>\n",
    "    <td>79</td>\n",
    "    <td>12</td>\n",
    "    <td>23</td>\n",
    "  </tr>\n",
    "  <tr>\n",
    "    <td>DiningRoom</td>\n",
    "    <td>191</td>\n",
    "    <td>28</td>\n",
    "    <td>55</td>\n",
    "  </tr>\n",
    "  <tr>\n",
    "    <td>Gym</td>\n",
    "    <td>161</td>\n",
    "    <td>23</td>\n",
    "    <td>47</td>\n",
    "  </tr>\n",
    "  <tr>\n",
    "    <td>HospitalRoom</td>\n",
    "    <td>70</td>\n",
    "    <td>10</td>\n",
    "    <td>21</td>\n",
    "  </tr>\n",
    "  <tr>\n",
    "    <td>Library</td>\n",
    "    <td>74</td>\n",
    "    <td>11</td>\n",
    "    <td>22</td>\n",
    "  </tr>\n",
    "  <tr>\n",
    "    <td>PoolInside</td>\n",
    "    <td>121</td>\n",
    "    <td>18</td>\n",
    "    <td>35</td>\n",
    "  </tr>\n",
    "  <tr>\n",
    "    <td>ToyStore</td>\n",
    "    <td>242</td>\n",
    "    <td>35</td>\n",
    "    <td>70</td>\n",
    "  </tr>\n",
    "  <tr style=\"font-weight:bold\">\n",
    "    <td>Total</td>\n",
    "    <td>1507</td>\n",
    "    <td>219</td>\n",
    "    <td>437</td>\n",
    "  </tr>\n",
    "</table>"
   ]
  },
  {
   "cell_type": "markdown",
   "metadata": {
    "colab_type": "text",
    "id": "T4Ru3xB1moex"
   },
   "source": [
    "### Q1.b. Convolutional Neural Network (CNN) - 5 pts"
   ]
  },
  {
   "cell_type": "markdown",
   "metadata": {
    "colab_type": "text",
    "id": "mV8ibBsOmoey"
   },
   "source": [
    "The torchvision package contains of popular datasets, model architectures, and common image transformations for computer vision. In this question, you are going to use one of the well known CNN models which already exist in torchvision. Visit [link](https://pytorch.org/docs/stable/torchvision/models.html) to explore models in torchvision. Remember that using deeper or wider networks may increase your training time.\n",
    "1. <font color=blue>\\[Code\\]</font> Write your own CNN class which is inherited from torch.nn.Module class. This class should have a network that you select among torchvision models as an instance member.\n",
    "2. <font color=blue>\\[Written\\]</font> State the model you selected and explain why you picked that model. Did you need to modify any part of this model to adopt to your task? "
   ]
  },
  {
   "cell_type": "code",
   "execution_count": 0,
   "metadata": {
    "colab": {},
    "colab_type": "code",
    "id": "jaRnbMXlmoez"
   },
   "outputs": [],
   "source": [
    "# USE THIS CODE CELL TO DEFINE CNN CLASS\n",
    "class CNN(torch.nn.Module):\n",
    "    \n",
    "    #Our batch shape for input x is (3, 224, 224)\n",
    "    \n",
    "    def __init__(self):\n",
    "        super(CNN, self).__init__()\n",
    "        \n",
    "        self.layer1 = torch.nn.Sequential(\n",
    "            torch.nn.Conv2d(3, 16, kernel_size=3, stride=1, padding=1),\n",
    "            torch.nn.ReLU(),\n",
    "            torch.nn.MaxPool2d(kernel_size=2, stride=2))\n",
    "        \n",
    "        self.layer2 = torch.nn.Sequential(\n",
    "            torch.nn.Conv2d(16, 32, kernel_size=3, stride=1, padding=1),\n",
    "            torch.nn.ReLU(),\n",
    "            torch.nn.MaxPool2d(kernel_size=2, stride=2))\n",
    "        \n",
    "        self.layer3 = torch.nn.Sequential(\n",
    "            torch.nn.Conv2d(32, 64, kernel_size=3, stride=1, padding=1),\n",
    "            torch.nn.ReLU(),\n",
    "            torch.nn.Conv2d(64, 64, kernel_size=3, stride=1, padding=1),\n",
    "            torch.nn.ReLU(),\n",
    "            torch.nn.MaxPool2d(kernel_size=2, stride=2))\n",
    "        \n",
    "        self.layer4 = torch.nn.Sequential(\n",
    "            torch.nn.Conv2d(64, 128, kernel_size=3, stride=1, padding=1),\n",
    "            torch.nn.ReLU(),\n",
    "            torch.nn.Conv2d(128, 128, kernel_size=3, stride=1, padding=1),\n",
    "            torch.nn.ReLU(),\n",
    "            torch.nn.MaxPool2d(kernel_size=2, stride=2))\n",
    "        \n",
    "        self.layer5 = torch.nn.Sequential(\n",
    "            torch.nn.Conv2d(128, 128, kernel_size=3, stride=1, padding=1),\n",
    "            torch.nn.ReLU(),\n",
    "            torch.nn.Conv2d(128, 128, kernel_size=3, stride=1, padding=1),\n",
    "            torch.nn.ReLU(),\n",
    "            torch.nn.MaxPool2d(kernel_size=2, stride=2))\n",
    "        \n",
    "        self.classifier = torch.nn.Sequential(\n",
    "            torch.nn.Linear(128 * 7 * 7, 4096),\n",
    "            torch.nn.ReLU(True),\n",
    "            torch.nn.Dropout(),\n",
    "            torch.nn.Linear(4096, 4096),\n",
    "            torch.nn.ReLU(True),\n",
    "            torch.nn.Dropout(),\n",
    "            torch.nn.Linear(4096, 10),\n",
    "        )\n",
    "        \n",
    "    def forward(self, x):\n",
    "        out = self.layer1(x)\n",
    "        out = self.layer2(out)\n",
    "        out = self.layer3(out)\n",
    "        out = self.layer4(out)\n",
    "        out = self.layer5(out)\n",
    "        out = out.view(out.size(0), -1)\n",
    "        out = self.classifier(out)\n",
    "        return out"
   ]
  },
  {
   "cell_type": "markdown",
   "metadata": {
    "colab_type": "text",
    "id": "5HTR6wB3moe4"
   },
   "source": [
    "<b>Answer Q1.b.2:</b>\n",
    "\n",
    "<b>State the model you selected and explain why you picked that model. Did you need to modify any part of this model to adopt to your task?.</b>\n",
    "\n",
    "<font>I choosed to use an architecture known as \"VGG-11\". The main reason for that choice is it is a small but accurate model. I tried many different models however they require much more computation power (CPU, GPU, RAM). VGG-11 fits well for that task. I modified number of kernels at each convolutional layer to reduce the computation demand of the model. I reduced number of kernels at each convolutional layer by factor of 4 since in the original version GPU was not enough to perform training task in Google Colab environment. Other parts of the model are same with the original model.\n",
    "\n",
    "I choosed densenet121 model for transfer learning part. I changed its classification layers which are called fully-connected layers. Then I trained it with the same procedure that I applied to from scratch model.</font>"
   ]
  },
  {
   "cell_type": "markdown",
   "metadata": {
    "colab_type": "text",
    "id": "RnUmvjLImoe5"
   },
   "source": [
    "### Q1.c. Transfer Learning vs Training from Scratch - 13 pts"
   ]
  },
  {
   "cell_type": "markdown",
   "metadata": {
    "colab_type": "text",
    "id": "etL2kmLvmoe6"
   },
   "source": [
    "In this question, are going to compare two different learning approaches: Transfer learning and Learning from scratch. Thanks to using the already implemented CNN model from torchvision, you can easily convert your randomly initialized network to a pretrained network. Do not forget that you are going to solve a multiclass classification problem. According to that, you need to carefully select the appropriate loss function. You need to select appropriate values for hyper-parameters. You need to use SGD optimizer for this question. Use the training, validation and test splits you created Q1.a. Note that you will NOT perform cross validation. Evaluate your network performance after each epoch by using the validation set. Use matplotlib library for plotting figures.\n",
    "\n",
    "1. <font color=blue>\\[Code\\]</font> Implement training and validation functions for both strategies. You have to print out average values of training loss, training accuracy, validation loss and validation accuracy for each epoch.\n",
    "2. <font color=blue>\\[Figure\\]</font> For the from-scratch-trained model, plot training loss and training accuracy of each iteration (update). Also plot validation loss and accuracy at each epoch. \n",
    "3. <font color=blue>\\[Figure\\]</font> For the transfer learning applied model, plot training loss and training accuracy of each iteration (each update). Also plot validation loss and accuracy at each epoch.\n",
    "4. <font color=blue>\\[Code\\]</font> Your models are going to run up to the max epoch parameter.  According to the validation results, pick the best models for both training approaches. You are going to use these models at the test phase. You need to save them in \".pth\" files.\n",
    "5. <font color=blue>\\[Written\\]</font> Which loss function did you use? Why did you choose it?\n",
    "6. <font color=blue>\\[Written\\]</font> What are the differences between transfer learning and from scratch learning.\n",
    "7. <font color=blue>\\[Written\\]</font> Explain how you selected hyperparameters for both strategies. Did you need to make any hyperparameter changes? "
   ]
  },
  {
   "cell_type": "code",
   "execution_count": 0,
   "metadata": {
    "colab": {},
    "colab_type": "code",
    "id": "iL2ZC2RCmofS"
   },
   "outputs": [],
   "source": [
    "FROM_SCRATCH_MODEL_PATH = 'own_model.pth' # change the value of FROM_SCRATCH_MODEL_PATH variable as your path\n",
    "TRANSFER_LEARNING_MODEL_PATH = 'transfer_model.pth' # change the value of TRANSFER_LEARNING_MODEL_PATH variable as your path"
   ]
  },
  {
   "cell_type": "markdown",
   "metadata": {
    "colab_type": "text",
    "id": "6H06NpEkw5p8"
   },
   "source": [
    "### From Scratch Model"
   ]
  },
  {
   "cell_type": "code",
   "execution_count": 0,
   "metadata": {
    "colab": {},
    "colab_type": "code",
    "id": "KsEtRvAIh7UL"
   },
   "outputs": [],
   "source": [
    "def accuracy(output, target, topk=(1,)):\n",
    "    with torch.no_grad():\n",
    "        maxk = max(topk)\n",
    "        batch_size = target.size(0)\n",
    "        _, pred = output.topk(maxk, 1, True, True)\n",
    "        pred = pred.t()\n",
    "        correct = pred.eq(target.view(1, -1).expand_as(pred))\n",
    "        res = []\n",
    "        for k in topk:\n",
    "            correct_k = correct[:k].view(-1).float().sum(0, keepdim=True)\n",
    "            res.append(correct_k.mul_(100.0 / batch_size))\n",
    "        return res"
   ]
  },
  {
   "cell_type": "code",
   "execution_count": 0,
   "metadata": {
    "colab": {},
    "colab_type": "code",
    "id": "f7Ut2xe1moe9"
   },
   "outputs": [],
   "source": [
    "def train(model, learning_rate):\n",
    "    #Loss function and optimizer\n",
    "    loss = torch.nn.CrossEntropyLoss()\n",
    "    optimizer = optim.SGD(model.parameters(), lr=learning_rate, momentum=0.9)   \n",
    "    \n",
    "    batch_loss = []\n",
    "    batch_acc = []    \n",
    "    \n",
    "    for i, data in enumerate(train_loader, 0):\n",
    "        #Set the parameter gradients to zero\n",
    "        optimizer.zero_grad()\n",
    "\n",
    "        #Forward pass, backward pass, optimize\n",
    "        outputs = model(data[0].cuda())\n",
    "        tot_loss = loss(outputs, data[1].cuda())\n",
    "        tot_loss.backward()\n",
    "        optimizer.step()\n",
    "\n",
    "        batch_loss.append(tot_loss.item())\n",
    "        batch_acc.append(accuracy(outputs, data[1].cuda(), (5,))[0].item())\n",
    "\n",
    "    # Loss and Accuracy\n",
    "    train_loss = np.sum(batch_loss)/len(batch_loss)\n",
    "    train_accuracy = np.sum(batch_acc)/len(batch_acc)\n",
    "    \n",
    "    return train_loss, train_accuracy          "
   ]
  },
  {
   "cell_type": "code",
   "execution_count": 0,
   "metadata": {
    "colab": {},
    "colab_type": "code",
    "id": "Jan1ZXwHmDMe"
   },
   "outputs": [],
   "source": [
    "def evaluate(model):\n",
    "    #Loss function and optimizer\n",
    "    loss = torch.nn.CrossEntropyLoss()\n",
    "    \n",
    "    v_batch_loss = []\n",
    "    v_batch_acc = []\n",
    "    model.eval()\n",
    "    with torch.no_grad():\n",
    "        for images, labels in val_loader:\n",
    "            outputs = model(images.cuda())\n",
    "            v_loss = loss(outputs, labels.cuda())\n",
    "            v_batch_loss.append(v_loss.item())\n",
    "            v_batch_acc.append(accuracy(outputs, labels.cuda(), (5,))[0].item())\n",
    "\n",
    "        validation_loss = np.sum(v_batch_loss)/len(v_batch_loss)\n",
    "        validation_accuracy = np.sum(v_batch_acc)/len(v_batch_acc)\n",
    "\n",
    "        return validation_loss, validation_accuracy   "
   ]
  },
  {
   "cell_type": "code",
   "execution_count": 80,
   "metadata": {
    "colab": {
     "base_uri": "https://localhost:8080/",
     "height": 3468
    },
    "colab_type": "code",
    "id": "lW8e8GgwmdGR",
    "outputId": "f4dc6504-4deb-4e7a-bb4b-be3a044b048c"
   },
   "outputs": [
    {
     "name": "stdout",
     "output_type": "stream",
     "text": [
      "Training Started\n",
      "\n",
      "Epoch [1/50], Num_Batch [24]\n",
      "Training Loss: 2.2890, Training Accuracy: 61.59%\n",
      "Validation Loss: 2.2662, Validation Accuracy: 67.69%\n",
      "\n",
      "Epoch [2/50], Num_Batch [24]\n",
      "Training Loss: 2.2564, Training Accuracy: 67.06%\n",
      "Validation Loss: 2.2383, Validation Accuracy: 69.30%\n",
      "\n",
      "Epoch [3/50], Num_Batch [24]\n",
      "Training Loss: 2.2345, Training Accuracy: 66.82%\n",
      "Validation Loss: 2.2377, Validation Accuracy: 65.02%\n",
      "\n",
      "Epoch [4/50], Num_Batch [24]\n",
      "Training Loss: 2.2228, Training Accuracy: 67.86%\n",
      "Validation Loss: 2.2109, Validation Accuracy: 67.16%\n",
      "\n",
      "Epoch [5/50], Num_Batch [24]\n",
      "Training Loss: 2.2138, Training Accuracy: 68.08%\n",
      "Validation Loss: 2.1966, Validation Accuracy: 68.76%\n",
      "\n",
      "Epoch [6/50], Num_Batch [24]\n",
      "Training Loss: 2.2082, Training Accuracy: 68.19%\n",
      "Validation Loss: 2.1923, Validation Accuracy: 70.91%\n",
      "\n",
      "Epoch [7/50], Num_Batch [24]\n",
      "Training Loss: 2.2069, Training Accuracy: 68.08%\n",
      "Validation Loss: 2.1940, Validation Accuracy: 69.30%\n",
      "\n",
      "Epoch [8/50], Num_Batch [24]\n",
      "Training Loss: 2.2064, Training Accuracy: 67.97%\n",
      "Validation Loss: 2.1856, Validation Accuracy: 69.84%\n",
      "\n",
      "Epoch [9/50], Num_Batch [24]\n",
      "Training Loss: 2.2055, Training Accuracy: 66.16%\n",
      "Validation Loss: 2.2139, Validation Accuracy: 67.16%\n",
      "\n",
      "Epoch [10/50], Num_Batch [24]\n",
      "Training Loss: 2.2042, Training Accuracy: 67.10%\n",
      "Validation Loss: 2.2013, Validation Accuracy: 67.06%\n",
      "\n",
      "Epoch [11/50], Num_Batch [24]\n",
      "Training Loss: 2.2060, Training Accuracy: 67.70%\n",
      "Validation Loss: 2.1951, Validation Accuracy: 68.23%\n",
      "\n",
      "Epoch [12/50], Num_Batch [24]\n",
      "Training Loss: 2.2062, Training Accuracy: 67.76%\n",
      "Validation Loss: 2.2008, Validation Accuracy: 68.76%\n",
      "\n",
      "Epoch [13/50], Num_Batch [24]\n",
      "Training Loss: 2.2039, Training Accuracy: 66.50%\n",
      "Validation Loss: 2.2222, Validation Accuracy: 64.92%\n",
      "\n",
      "Epoch [14/50], Num_Batch [24]\n",
      "Training Loss: 2.2034, Training Accuracy: 67.33%\n",
      "Validation Loss: 2.2038, Validation Accuracy: 68.76%\n",
      "\n",
      "Epoch [15/50], Num_Batch [24]\n",
      "Training Loss: 2.2030, Training Accuracy: 67.36%\n",
      "Validation Loss: 2.1833, Validation Accuracy: 68.76%\n",
      "\n",
      "Epoch [16/50], Num_Batch [24]\n",
      "Training Loss: 2.2052, Training Accuracy: 67.81%\n",
      "Validation Loss: 2.2031, Validation Accuracy: 68.23%\n",
      "\n",
      "Epoch [17/50], Num_Batch [24]\n",
      "Training Loss: 2.2043, Training Accuracy: 68.08%\n",
      "Validation Loss: 2.1953, Validation Accuracy: 69.30%\n",
      "\n",
      "Epoch [18/50], Num_Batch [24]\n",
      "Training Loss: 2.2034, Training Accuracy: 68.19%\n",
      "Validation Loss: 2.2072, Validation Accuracy: 69.30%\n",
      "\n",
      "Epoch [19/50], Num_Batch [24]\n",
      "Training Loss: 2.2038, Training Accuracy: 68.03%\n",
      "Validation Loss: 2.1858, Validation Accuracy: 69.84%\n",
      "\n",
      "Epoch [20/50], Num_Batch [24]\n",
      "Training Loss: 2.2031, Training Accuracy: 68.13%\n",
      "Validation Loss: 2.1964, Validation Accuracy: 69.30%\n",
      "\n",
      "Epoch [21/50], Num_Batch [24]\n",
      "Training Loss: 2.2024, Training Accuracy: 68.13%\n",
      "Validation Loss: 2.2129, Validation Accuracy: 68.76%\n",
      "\n",
      "Epoch [22/50], Num_Batch [24]\n",
      "Training Loss: 2.2035, Training Accuracy: 68.24%\n",
      "Validation Loss: 2.1950, Validation Accuracy: 69.30%\n",
      "\n",
      "Epoch [23/50], Num_Batch [24]\n",
      "Training Loss: 2.2049, Training Accuracy: 68.08%\n",
      "Validation Loss: 2.2063, Validation Accuracy: 68.76%\n",
      "\n",
      "Epoch [24/50], Num_Batch [24]\n",
      "Training Loss: 2.2046, Training Accuracy: 66.61%\n",
      "Validation Loss: 2.1970, Validation Accuracy: 69.30%\n",
      "\n",
      "Epoch [25/50], Num_Batch [24]\n",
      "Training Loss: 2.2018, Training Accuracy: 67.40%\n",
      "Validation Loss: 2.1870, Validation Accuracy: 70.37%\n",
      "\n",
      "Epoch [26/50], Num_Batch [24]\n",
      "Training Loss: 2.2043, Training Accuracy: 67.97%\n",
      "Validation Loss: 2.2004, Validation Accuracy: 69.30%\n",
      "\n",
      "Epoch [27/50], Num_Batch [24]\n",
      "Training Loss: 2.2051, Training Accuracy: 67.92%\n",
      "Validation Loss: 2.2046, Validation Accuracy: 68.76%\n",
      "\n",
      "Epoch [28/50], Num_Batch [24]\n",
      "Training Loss: 2.2047, Training Accuracy: 67.86%\n",
      "Validation Loss: 2.2002, Validation Accuracy: 68.76%\n",
      "\n",
      "Epoch [29/50], Num_Batch [24]\n",
      "Training Loss: 2.2029, Training Accuracy: 68.03%\n",
      "Validation Loss: 2.2035, Validation Accuracy: 69.84%\n",
      "\n",
      "Epoch [30/50], Num_Batch [24]\n",
      "Training Loss: 2.2034, Training Accuracy: 68.13%\n",
      "Validation Loss: 2.1722, Validation Accuracy: 70.37%\n",
      "\n",
      "Epoch [31/50], Num_Batch [24]\n",
      "Training Loss: 2.2034, Training Accuracy: 68.19%\n",
      "Validation Loss: 2.2186, Validation Accuracy: 67.69%\n",
      "\n",
      "Epoch [32/50], Num_Batch [24]\n",
      "Training Loss: 2.2053, Training Accuracy: 68.03%\n",
      "Validation Loss: 2.1958, Validation Accuracy: 69.30%\n",
      "\n",
      "Epoch [33/50], Num_Batch [24]\n",
      "Training Loss: 2.2042, Training Accuracy: 67.92%\n",
      "Validation Loss: 2.2096, Validation Accuracy: 66.62%\n",
      "\n",
      "Epoch [34/50], Num_Batch [24]\n",
      "Training Loss: 2.2048, Training Accuracy: 67.35%\n",
      "Validation Loss: 2.1909, Validation Accuracy: 69.30%\n",
      "\n",
      "Epoch [35/50], Num_Batch [24]\n",
      "Training Loss: 2.2042, Training Accuracy: 67.10%\n",
      "Validation Loss: 2.1927, Validation Accuracy: 68.23%\n",
      "\n",
      "Epoch [36/50], Num_Batch [24]\n",
      "Training Loss: 2.2034, Training Accuracy: 67.11%\n",
      "Validation Loss: 2.1956, Validation Accuracy: 69.30%\n",
      "\n",
      "Epoch [37/50], Num_Batch [24]\n",
      "Training Loss: 2.2036, Training Accuracy: 68.13%\n",
      "Validation Loss: 2.1871, Validation Accuracy: 70.37%\n",
      "\n",
      "Epoch [38/50], Num_Batch [24]\n",
      "Training Loss: 2.2039, Training Accuracy: 68.08%\n",
      "Validation Loss: 2.2098, Validation Accuracy: 68.23%\n",
      "\n",
      "Epoch [39/50], Num_Batch [24]\n",
      "Training Loss: 2.2066, Training Accuracy: 67.81%\n",
      "Validation Loss: 2.1991, Validation Accuracy: 69.30%\n",
      "\n",
      "Epoch [40/50], Num_Batch [24]\n",
      "Training Loss: 2.2039, Training Accuracy: 67.97%\n",
      "Validation Loss: 2.1906, Validation Accuracy: 68.76%\n",
      "\n",
      "Epoch [41/50], Num_Batch [24]\n",
      "Training Loss: 2.2042, Training Accuracy: 68.03%\n",
      "Validation Loss: 2.1988, Validation Accuracy: 69.30%\n",
      "\n",
      "Epoch [42/50], Num_Batch [24]\n",
      "Training Loss: 2.2049, Training Accuracy: 67.97%\n",
      "Validation Loss: 2.1928, Validation Accuracy: 69.84%\n",
      "\n",
      "Epoch [43/50], Num_Batch [24]\n",
      "Training Loss: 2.2041, Training Accuracy: 68.13%\n",
      "Validation Loss: 2.1963, Validation Accuracy: 68.76%\n",
      "\n",
      "Epoch [44/50], Num_Batch [24]\n",
      "Training Loss: 2.2041, Training Accuracy: 68.19%\n",
      "Validation Loss: 2.1895, Validation Accuracy: 69.84%\n",
      "\n",
      "Epoch [45/50], Num_Batch [24]\n",
      "Training Loss: 2.2034, Training Accuracy: 68.08%\n",
      "Validation Loss: 2.1891, Validation Accuracy: 70.37%\n",
      "\n",
      "Epoch [46/50], Num_Batch [24]\n",
      "Training Loss: 2.2038, Training Accuracy: 67.97%\n",
      "Validation Loss: 2.2127, Validation Accuracy: 67.16%\n",
      "\n",
      "Epoch [47/50], Num_Batch [24]\n",
      "Training Loss: 2.2033, Training Accuracy: 66.14%\n",
      "Validation Loss: 2.2212, Validation Accuracy: 66.09%\n",
      "\n",
      "Epoch [48/50], Num_Batch [24]\n",
      "Training Loss: 2.2053, Training Accuracy: 67.02%\n",
      "Validation Loss: 2.1994, Validation Accuracy: 68.76%\n",
      "\n",
      "Epoch [49/50], Num_Batch [24]\n",
      "Training Loss: 2.2031, Training Accuracy: 68.13%\n",
      "Validation Loss: 2.2213, Validation Accuracy: 67.69%\n",
      "\n",
      "Epoch [50/50], Num_Batch [24]\n",
      "Training Loss: 2.2027, Training Accuracy: 68.08%\n",
      "Validation Loss: 2.1863, Validation Accuracy: 69.84%\n",
      "\n",
      "Training Ended\n"
     ]
    }
   ],
   "source": [
    "# Hyperparameters\n",
    "n_epochs = 50\n",
    "learning_rate = 0.01\n",
    "batch_size = 64\n",
    "\n",
    "# Load Data\n",
    "train_loader, val_loader, _ = load_dataset(root_dir, batch_size)\n",
    "\n",
    "# Load Model\n",
    "model = CNN()\n",
    "model.cuda()\n",
    "\n",
    "print(\"Training Started\\n\")\n",
    "tr_loss = []\n",
    "tr_acc = []\n",
    "\n",
    "val_loss = []\n",
    "val_acc = []\n",
    "\n",
    "# Train the model\n",
    "total_step = len(train_loader)\n",
    "\n",
    "# Each Epoch\n",
    "for epoch in range(n_epochs):\n",
    "    torch.cuda.empty_cache()\n",
    "    train_loss, train_accuracy = train(model, learning_rate)\n",
    "    validation_loss, validation_accuracy = evaluate(model)\n",
    "    \n",
    "    print('Epoch [{}/{}], Num_Batch [{}]' .format(epoch + 1, n_epochs, total_step))\n",
    "    \n",
    "    print('Training Loss: {:.4f}, Training Accuracy: {:.2f}%' .format(train_loss, train_accuracy))\n",
    "    tr_loss.append(train_loss)\n",
    "    tr_acc.append(train_accuracy)\n",
    "    \n",
    "    print('Validation Loss: {:.4f}, Validation Accuracy: {:.2f}%\\n' .format(validation_loss, validation_accuracy))\n",
    "    val_loss.append(validation_loss)\n",
    "    val_acc.append(validation_accuracy)\n",
    "    \n",
    "print(\"Training Ended\")\n",
    "torch.save(model.state_dict(), FROM_SCRATCH_MODEL_PATH)"
   ]
  },
  {
   "cell_type": "code",
   "execution_count": 81,
   "metadata": {
    "colab": {
     "base_uri": "https://localhost:8080/",
     "height": 590
    },
    "colab_type": "code",
    "id": "USoBoyTnmofi",
    "outputId": "fa521650-be40-4a29-82f4-9b07d61d9138"
   },
   "outputs": [
    {
     "name": "stdout",
     "output_type": "stream",
     "text": [
      "\n"
     ]
    },
    {
     "data": {
      "image/png": "[encoded data removed]",
      "text/plain": [
       "<Figure size 432x288 with 1 Axes>"
      ]
     },
     "metadata": {
      "tags": []
     },
     "output_type": "display_data"
    },
    {
     "data": {
      "image/png": "[encoded data removed]",
      "text/plain": [
       "<Figure size 432x288 with 1 Axes>"
      ]
     },
     "metadata": {
      "tags": []
     },
     "output_type": "display_data"
    }
   ],
   "source": [
    "epochs = np.arange(n_epochs)+1\n",
    "f = plt.figure()\n",
    "ax = f.add_subplot(111)\n",
    "ax.plot(epochs, tr_loss, '-', label=\"Training Loss\")\n",
    "ax.plot(epochs,val_loss, '-', label=\"Validation Loss\")\n",
    "ax.legend()\n",
    "\n",
    "ax.set_xlabel('Epoch Count')\n",
    "ax.set_ylabel('Total Loss')\n",
    "ax.set_title('Training Loss vs Validation Loss')\n",
    "\n",
    "g = plt.figure()\n",
    "bx = g.add_subplot(111)\n",
    "bx.plot(epochs, tr_acc, '-', label=\"Training Accuracy\")\n",
    "bx.plot(epochs, val_acc, '-', label=\"Validation Accuracy\")\n",
    "bx.legend()\n",
    "\n",
    "bx.set_xlabel('Epoch Count')\n",
    "bx.set_ylabel('Top-5 Accuracy')\n",
    "bx.set_title('Training Accuracy vs Validation Accuracy')\n",
    "print()"
   ]
  },
  {
   "cell_type": "markdown",
   "metadata": {
    "colab_type": "text",
    "id": "5Ma2QaOwBzaX"
   },
   "source": [
    "### Transfer Learning"
   ]
  },
  {
   "cell_type": "code",
   "execution_count": 0,
   "metadata": {
    "colab": {},
    "colab_type": "code",
    "id": "BqxNyFP-6VVS"
   },
   "outputs": [],
   "source": [
    "device = torch.device(\"cuda\" if torch.cuda.is_available() else \"cpu\")\n",
    "#pretrained=True will download a pretrained network for us\n",
    "model = models.densenet121(pretrained=True)\n",
    "\n",
    "#Freezing model parameters and defining the fully connected network to be attached to the model, loss function and the optimizer.\n",
    "#We there after put the model on the GPUs\n",
    "for param in model.parameters():\n",
    "    param.require_grad = False\n",
    "fc = torch.nn.Sequential(\n",
    "    torch.nn.Linear(1024, 460),\n",
    "    torch.nn.ReLU(),\n",
    "    torch.nn.Dropout(0.4),\n",
    "    \n",
    "    torch.nn.Linear(460,10),\n",
    "    torch.nn.LogSoftmax(dim=1))\n",
    "\n",
    "model.classifier = fc\n",
    "criterion = torch.nn.NLLLoss()\n",
    "#Over here we want to only update the parameters of the classifier so\n",
    "optimizer = torch.optim.Adam(model.classifier.parameters(), lr=0.003)\n",
    "model.to(device)"
   ]
  },
  {
   "cell_type": "code",
   "execution_count": 91,
   "metadata": {
    "colab": {
     "base_uri": "https://localhost:8080/",
     "height": 1377
    },
    "colab_type": "code",
    "id": "dsTSjmw16VZ_",
    "outputId": "24d827b9-c839-467f-87d3-54ac3ce062bf"
   },
   "outputs": [
    {
     "name": "stdout",
     "output_type": "stream",
     "text": [
      "Epoch [1/20], Num_Batch [24]\n",
      "Training Loss: 0.615298 \t Training Accuracy 0.793099 \n",
      "Validation Loss: 0.863275 \tValidation Accuracy: 0.717448\n",
      "\n",
      "Epoch [2/20], Num_Batch [24]\n",
      "Training Loss: 0.681005 \t Training Accuracy 0.761421 \n",
      "Validation Loss: 0.763471 \tValidation Accuracy: 0.725260\n",
      "\n",
      "Epoch [3/20], Num_Batch [24]\n",
      "Training Loss: 0.577310 \t Training Accuracy 0.806436 \n",
      "Validation Loss: 0.788957 \tValidation Accuracy: 0.753038\n",
      "\n",
      "Epoch [4/20], Num_Batch [24]\n",
      "Training Loss: 0.560547 \t Training Accuracy 0.809487 \n",
      "Validation Loss: 0.727177 \tValidation Accuracy: 0.759404\n",
      "\n",
      "Epoch [5/20], Num_Batch [24]\n",
      "Training Loss: 0.653106 \t Training Accuracy 0.770666 \n",
      "Validation Loss: 0.811389 \tValidation Accuracy: 0.751157\n",
      "\n",
      "Epoch [6/20], Num_Batch [24]\n",
      "Training Loss: 0.612938 \t Training Accuracy 0.795275 \n",
      "Validation Loss: 0.913847 \tValidation Accuracy: 0.701389\n",
      "\n",
      "Epoch [7/20], Num_Batch [24]\n",
      "Training Loss: 0.598584 \t Training Accuracy 0.792243 \n",
      "Validation Loss: 0.867059 \tValidation Accuracy: 0.730613\n",
      "\n",
      "Epoch [8/20], Num_Batch [24]\n",
      "Training Loss: 0.616730 \t Training Accuracy 0.785938 \n",
      "Validation Loss: 0.690992 \tValidation Accuracy: 0.772569\n",
      "\n",
      "Epoch [9/20], Num_Batch [24]\n",
      "Training Loss: 0.605501 \t Training Accuracy 0.786700 \n",
      "Validation Loss: 0.706391 \tValidation Accuracy: 0.757378\n",
      "\n",
      "Epoch [10/20], Num_Batch [24]\n",
      "Training Loss: 0.544460 \t Training Accuracy 0.808947 \n",
      "Validation Loss: 0.764784 \tValidation Accuracy: 0.738860\n",
      "\n",
      "Epoch [11/20], Num_Batch [24]\n",
      "Training Loss: 0.647989 \t Training Accuracy 0.784208 \n",
      "Validation Loss: 0.751031 \tValidation Accuracy: 0.745226\n",
      "\n",
      "Epoch [12/20], Num_Batch [24]\n",
      "Training Loss: 0.641771 \t Training Accuracy 0.790606 \n",
      "Validation Loss: 0.799991 \tValidation Accuracy: 0.727720\n",
      "\n",
      "Epoch [13/20], Num_Batch [24]\n",
      "Training Loss: 0.572934 \t Training Accuracy 0.799070 \n",
      "Validation Loss: 0.716844 \tValidation Accuracy: 0.771123\n",
      "\n",
      "Epoch [14/20], Num_Batch [24]\n",
      "Training Loss: 0.572452 \t Training Accuracy 0.798419 \n",
      "Validation Loss: 0.666394 \tValidation Accuracy: 0.769097\n",
      "\n",
      "Epoch [15/20], Num_Batch [24]\n",
      "Training Loss: 0.583101 \t Training Accuracy 0.790272 \n",
      "Validation Loss: 0.779435 \tValidation Accuracy: 0.735966\n",
      "\n",
      "Epoch [16/20], Num_Batch [24]\n",
      "Training Loss: 0.531927 \t Training Accuracy 0.799814 \n",
      "Validation Loss: 0.769153 \tValidation Accuracy: 0.750145\n",
      "\n",
      "Epoch [17/20], Num_Batch [24]\n",
      "Training Loss: 0.523783 \t Training Accuracy 0.809914 \n",
      "Validation Loss: 0.720665 \tValidation Accuracy: 0.767650\n",
      "\n",
      "Epoch [18/20], Num_Batch [24]\n",
      "Training Loss: 0.553210 \t Training Accuracy 0.807106 \n",
      "Validation Loss: 0.706106 \tValidation Accuracy: 0.738426\n",
      "\n",
      "Epoch [19/20], Num_Batch [24]\n",
      "Training Loss: 0.599903 \t Training Accuracy 0.787128 \n",
      "Validation Loss: 0.765364 \tValidation Accuracy: 0.741319\n",
      "\n",
      "Epoch [20/20], Num_Batch [24]\n",
      "Training Loss: 0.569652 \t Training Accuracy 0.799944 \n",
      "Validation Loss: 0.895787 \tValidation Accuracy: 0.691551\n",
      "\n"
     ]
    }
   ],
   "source": [
    "#Training the model and saving checkpoints of best performances. That is lower validation loss and higher accuracy\n",
    "n_epochs = 20\n",
    "valid_loss_min = np.Inf\n",
    "total_step = len(train_loader)\n",
    "\n",
    "all_train_loss = []\n",
    "all_train_acc = []\n",
    "\n",
    "all_val_loss = []\n",
    "all_val_acc = []\n",
    "\n",
    "for epoch in range(n_epochs):\n",
    "        \n",
    "    model.train()\n",
    "    \n",
    "    tr_loss = 0.0\n",
    "    val_loss = 0.0\n",
    "    tr_accuracy = 0\n",
    "    val_accuracy = 0\n",
    "\n",
    "    for inputs, labels in train_loader:\n",
    "        \n",
    "        # Move input and label tensors to the default device\n",
    "        inputs, labels = inputs.to(device), labels.to(device)\n",
    "\n",
    "        optimizer.zero_grad()\n",
    "\n",
    "        logps = model(inputs)\n",
    "        loss = criterion(logps, labels)\n",
    "        loss.backward()\n",
    "        optimizer.step()\n",
    "        tr_loss += loss.item() \n",
    "        \n",
    "        # Calculate accuracy\n",
    "        ps = torch.exp(logps)\n",
    "        top_p, top_class = ps.topk(1, dim=1)\n",
    "        equals = top_class == labels.view(*top_class.shape)\n",
    "        tr_accuracy += torch.mean(equals.type(torch.FloatTensor)).item()\n",
    "        \n",
    "    model.eval()\n",
    "    \n",
    "    with torch.no_grad():\n",
    "        for inputs, labels in val_loader:\n",
    "            \n",
    "            inputs, labels = inputs.to(device), labels.to(device)\n",
    "            logps = model.forward(inputs)\n",
    "            batch_loss = criterion(logps, labels)\n",
    "            val_loss += batch_loss.item()\n",
    "            \n",
    "            # Calculate accuracy\n",
    "            ps = torch.exp(logps)\n",
    "            top_p, top_class = ps.topk(1, dim=1)\n",
    "            equals = top_class == labels.view(*top_class.shape)\n",
    "            val_accuracy += torch.mean(equals.type(torch.FloatTensor)).item()\n",
    "                    \n",
    "    \n",
    "    # calculate average losses\n",
    "    train_loss = tr_loss/len(train_loader)\n",
    "    train_accuracy = tr_accuracy/len(train_loader)\n",
    "    val_loss = val_loss/len(val_loader)\n",
    "    val_accuracy = val_accuracy/len(val_loader) \n",
    "    \n",
    "    # print training/validation statistics \n",
    "    print('Epoch [{}/{}], Num_Batch [{}]' .format(epoch + 1, n_epochs, total_step))\n",
    "    print('Training Loss: {:.6f} \\t Training Accuracy {:.6f} \\nValidation Loss: {:.6f} \\tValidation Accuracy: {:.6f}\\n'.format(train_loss, train_accuracy, val_loss, val_accuracy))\n",
    "    all_train_loss.append(train_loss)\n",
    "    all_train_acc.append(train_accuracy)\n",
    "    all_val_loss.append(val_loss)\n",
    "    all_val_acc.append(val_accuracy)\n",
    "    \n",
    "    if val_loss <= valid_loss_min:\n",
    "        torch.save(model.state_dict(), TRANSFER_LEARNING_MODEL_PATH)\n",
    "        valid_loss_min = val_loss   "
   ]
  },
  {
   "cell_type": "code",
   "execution_count": 92,
   "metadata": {
    "colab": {
     "base_uri": "https://localhost:8080/",
     "height": 590
    },
    "colab_type": "code",
    "id": "scPr0h9lHGYz",
    "outputId": "05df8c3a-0846-4cfb-eed8-697115cb4e78"
   },
   "outputs": [
    {
     "name": "stdout",
     "output_type": "stream",
     "text": [
      "\n"
     ]
    },
    {
     "data": {
      "image/png": "[encoded data removed]",
      "text/plain": [
       "<Figure size 432x288 with 1 Axes>"
      ]
     },
     "metadata": {
      "tags": []
     },
     "output_type": "display_data"
    },
    {
     "data": {
      "image/png": "[encoded data removed]",
      "text/plain": [
       "<Figure size 432x288 with 1 Axes>"
      ]
     },
     "metadata": {
      "tags": []
     },
     "output_type": "display_data"
    }
   ],
   "source": [
    "epochs = np.arange(n_epochs)+1\n",
    "f = plt.figure()\n",
    "ax = f.add_subplot(111)\n",
    "ax.plot(epochs, all_train_loss, '-', label=\"Training Loss\")\n",
    "ax.plot(epochs, all_val_loss, '-', label=\"Validation Loss\")\n",
    "ax.legend()\n",
    "\n",
    "ax.set_xlabel('Epoch Count')\n",
    "ax.set_ylabel('Total Loss')\n",
    "ax.set_title('Training Loss vs Validation Loss')\n",
    "\n",
    "g = plt.figure()\n",
    "bx = g.add_subplot(111)\n",
    "bx.plot(epochs, all_train_acc, '-', label=\"Training Accuracy\")\n",
    "bx.plot(epochs, all_val_acc, '-', label=\"Validation Accuracy\")\n",
    "bx.legend()\n",
    "\n",
    "bx.set_xlabel('Epoch Count')\n",
    "bx.set_ylabel('Top-5 Accuracy')\n",
    "bx.set_title('Training Accuracy vs Validation Accuracy')\n",
    "print()"
   ]
  },
  {
   "cell_type": "markdown",
   "metadata": {
    "colab_type": "text",
    "id": "VVNNETj5mofk"
   },
   "source": [
    "<b>Answer for Q1.c.5:</b>\n",
    "\n",
    "<b>Which loss function did you use? Why did you choose it?</b>\n",
    "\n",
    "<font>I used Cross Entropy Loss as a loss function in my Convolutional Neural Network model. The main reason that I choose Cross Entropy Loss is that it is the best loss function for multi-class classification problems. Since we have 10 different output labels, it is not suitable to use loss functions like L1, L2. </font>"
   ]
  },
  {
   "cell_type": "markdown",
   "metadata": {
    "colab_type": "text",
    "id": "D07FxitQmofl"
   },
   "source": [
    "<b>Answer for Q1.c.6:</b>\n",
    "\n",
    "<b>What are the differences between transfer learning and from scratch learning.</b>\n",
    "\n",
    "<font>In from scratch learning, model also learned what are the hidden features of the given image. In that model, the convolution layers are also trained with the chosen loss function and back-propogation whereas in the transfer learning, only the fully-connected layers are trained; hidden features are taken from another pre-trained Convolutional Neural Netwok. Thus training transfer learning model is much easier than training from scratch model.</font>"
   ]
  },
  {
   "cell_type": "markdown",
   "metadata": {
    "colab_type": "text",
    "id": "9ld4iqVImofn"
   },
   "source": [
    "<b>Answer for Q1.c.7:</b>\n",
    "\n",
    "<b> Explain how you selected hyperparameters for both strategies. Did you need to make any hyperparameter changes?</b>\n",
    "\n",
    "<font> I searched from Internet to find best hyperparameters for the given architectures. Also I observed the accuracy and loss values in each epoch. \n",
    "    \n",
    "* For learning rate I tried 4 different learning rate values: [0.1, 0.01, 0.001, 0.0001]. 0.1 is to large and it sometimes missed the optimal loss value while 0.001 and 0.0001 are too small so that training takes too long and it requires more number of epochs. So I decided to use 0.01 as learning rate.\n",
    "\n",
    "* For batch size,  I choosed 64. I cannot make it bigger than 100 since GPU memory of the Google Colab environment is not enough to train bigger batches. I tried [100,64,32] and best results that I take are with the ones that have batch size 64.\n",
    "\n",
    "* For number of epochs, I observed loss and accuracy and as they could be seen from the figure above, after epoch 5-10, loss and algoritm converges. Thus I used 10-15 epochs.</font>"
   ]
  },
  {
   "cell_type": "markdown",
   "metadata": {
    "colab_type": "text",
    "id": "r8XFf_7Amofo"
   },
   "source": [
    "### Q1.d. Test Classifiers - 7 pts"
   ]
  },
  {
   "cell_type": "markdown",
   "metadata": {
    "colab_type": "text",
    "id": "RrZYmUndmofp"
   },
   "source": [
    "You should have obtained two trained networks so far. One of them comes from a transfer learning approach and the other network is from from-scratch-trained approach. In this case, you need to compare these two trained networks by using the test set.\n",
    "\n",
    "1. <font color=blue>\\[Code\\]</font> Load saved '.pth' file for the model that trained with the transfer learning approach. Test this model by using the test set.\n",
    "2. <font color=blue>\\[Code\\]</font> Load saved '.pth' file for the model that trained from scratch. Test this model by using the test set.\n",
    "3. <font color=blue>\\[Figure\\]</font> Provide confusion matrix for the results of [1.] question.\n",
    "4. <font color=blue>\\[Figure\\]</font> Provide confusion matrix for the results of [2.] question.\n",
    "5. <font color=blue>\\[Figure\\]</font> Display randomly selected 20 images from the test set with the predicted and ground truth labels. Show these images in a grid (4x5).\n",
    "6. <font color=blue>\\[Written\\]</font> Give the test set accuracy values for these two models. Which training approach does work better than the other? Explain why?"
   ]
  },
  {
   "cell_type": "code",
   "execution_count": 0,
   "metadata": {
    "colab": {},
    "colab_type": "code",
    "id": "QBJU31_Hmofq"
   },
   "outputs": [],
   "source": [
    "# USE THIS CODE CELL TO IMPLEMENT TEST FUNCTION WHICH IS COMMON FOR BOTH MODEL\n",
    "\n",
    "# --- Representative Code Snippet ---\n",
    "# def test(**kwargs):"
   ]
  },
  {
   "cell_type": "code",
   "execution_count": 0,
   "metadata": {
    "colab": {},
    "colab_type": "code",
    "id": "AaYQcmX4mofs"
   },
   "outputs": [],
   "source": [
    "# USE THIS CODE CELL TO LOAD BEST MODEL WHICH USES TRANSFER LEARNING APPROACH\n",
    "# LOAD TEST SAMPLES\n",
    "# GET THE TEST RESULTS, PRINT OUT TEST METRICS\n",
    "\n",
    "# --- Representative Code Snippet ---\n",
    "# testloader = torch.utils.data.DataLoader(test_dataset, batch_size=n_batch, num_workers=n_workers)\n",
    "# model = YourCNNClass(**kwargs)\n",
    "# model.load_state_dict(torch.load(TRANSFER_LEARNING_MODEL_PATH))\n",
    "# model.eval()\n",
    "# test(model)"
   ]
  },
  {
   "cell_type": "code",
   "execution_count": 0,
   "metadata": {
    "colab": {},
    "colab_type": "code",
    "id": "EG5v5K1Zmofu"
   },
   "outputs": [],
   "source": [
    "# USE THIS CODE CELL TO LOAD BEST MODEL WHICH IS TRAINED FROM SCRATCH\n",
    "# LOAD TEST SAMPLES\n",
    "# GET THE TEST RESULTS, PRINT OUT TEST METRICS\n",
    "\n",
    "# --- Representative Code Snippet ---\n",
    "# testloader = torch.utils.data.DataLoader(test_dataset, batch_size=n_batch, num_workers=n_workers)\n",
    "# model = YourCNNClass(**kwargs)\n",
    "# model.load_state_dict(torch.load(FROM_SCRATCH_MODEL_PATH))\n",
    "# model.eval()\n",
    "# test(model)"
   ]
  },
  {
   "cell_type": "code",
   "execution_count": 0,
   "metadata": {
    "colab": {},
    "colab_type": "code",
    "id": "2duqzAhVmofw"
   },
   "outputs": [],
   "source": [
    "# USE THIS CODE CELL TO CREATE CONFUSION MATRIX [Answer: Q1.d.3]\n",
    "# YOU CAN USE sklearn.metrics package to compute confusion matrix"
   ]
  },
  {
   "cell_type": "code",
   "execution_count": 0,
   "metadata": {
    "colab": {},
    "colab_type": "code",
    "id": "23cQw_Uamofy"
   },
   "outputs": [],
   "source": [
    "# USE THIS CODE CELL TO CREATE CONFUSION MATRIX [Answer: Q1.d.4]\n",
    "# YOU CAN UbSE sklearn.metrics package to compute confusion matrix"
   ]
  },
  {
   "cell_type": "code",
   "execution_count": 0,
   "metadata": {
    "colab": {},
    "colab_type": "code",
    "id": "NubvJE9lmofz"
   },
   "outputs": [],
   "source": [
    "# USE THIS CODE CELL TO DISPLAY RANDOMLY SELECTED TEST SAMPLES WITH THEIR PREDICTED AND TARGET LABELS [Answer: Q1.d.5]"
   ]
  },
  {
   "cell_type": "markdown",
   "metadata": {
    "colab_type": "text",
    "id": "zVwKJvbHmof1"
   },
   "source": [
    "<b>Answer for Q1.d.6:</b>\n",
    "\n",
    "<b>USE THIS MARKDOWN CELL TO GIVE YOUR ANSWER FOR THE WRITTEN QUESTION.</b>\n",
    "\n",
    "<font color=blue>Double click to this text to write your answer !!!</font>"
   ]
  },
  {
   "cell_type": "markdown",
   "metadata": {
    "colab_type": "text",
    "id": "qfi14MwYmof2"
   },
   "source": [
    "## Question 2 - 65 pts"
   ]
  },
  {
   "cell_type": "markdown",
   "metadata": {
    "colab_type": "text",
    "id": "BfLu7xA1mof2"
   },
   "source": [
    "In this question, you are going to implement both a Convolutional Neural Network (CNN) architecture and a Multilayer Perceptron (MLP) to solve the bird type classification problem. As the dataset, you will use [Caltech-UCSD Birds-200-2011](http://www.vision.caltech.edu/visipedia/CUB-200-2011.html) dataset. The dataset consists of 11.788 photos of 200 bird species. The dataset provides you bounding boxes, image labels, and training-test splits. DO NOT FORGET THAT YOU WILL NOT USE TRAINING-TEST SPLIT WHICH IS PROVIDED BY DATASET. YOU WILL SPLIT THE DATASET INTO TRAINING, TEST AND VALIDATION SETS YOURSELF.\n",
    "\n",
    "You are free to choose your neural network architecture in this question but there will be a minimum performance threshold and your network's performance will affect your grade for this question. The thresholds and metric types are specified in corresponding questions.\n",
    "\n",
    "<b>Note: You should be able to achieve these goals with training time < a day on a GPU.</b>"
   ]
  },
  {
   "cell_type": "markdown",
   "metadata": {
    "colab_type": "text",
    "id": "fz9zBP2imof3"
   },
   "source": [
    "### Q2.a. Data Loader - 15 pts"
   ]
  },
  {
   "cell_type": "markdown",
   "metadata": {
    "colab_type": "text",
    "id": "8xyVolNHmof4"
   },
   "source": [
    "In this question you are going to use [Caltech-UCSD Birds-200-2011](http://www.vision.caltech.edu/visipedia/CUB-200-2011.html) dataset. Download the dataset from given [link](http://www.vision.caltech.edu/visipedia/CUB-200-2011.html). You have to implement a custom data loader. Notice that photos are not tightly cropped. You may choose to crop images by using bounding boxes which exist in the dataset. Note that you will build CNN and MLP architectures and input types should be different for these networks. You should prepare data loaders by considering this situation. You may need to convert images to grayscale format to train the MLP model. <b>MLP and CNN architectures have to use exactly the same splits (training, test, and validation) to make their performance results comparable.</b>\n",
    "\n",
    "1. <font color=blue>\\[Code\\]</font> Split the dataset as training, test, and validation sets. For each class, 20% of its samples should be in test set and 10% of its samples should be in the validation set. \n",
    "2. <font color=blue>\\[Code\\]</font> Apply appropriate augmentations to the set(s) for which it is essential.\n",
    "3. <font color=blue>\\[Written\\]</font> Explain your augmentation method differences for two models? \n",
    "\n"
   ]
  },
  {
   "cell_type": "code",
   "execution_count": 161,
   "metadata": {
    "colab": {},
    "colab_type": "code",
    "id": "KQCCEeKgmof4"
   },
   "outputs": [],
   "source": [
    "# USE THIS CODE CELL TO SPECIFY ROOT PATH FOR THE DATASET.\n",
    "\n",
    "# IF YOU USE GOOGLE COLAB, DATA PATH EXAMPLE: \n",
    "# root_dir = '/content/gdrive/My\\ Drive/CS464/HW3/CUB_200_2011'\n",
    "# -------------------------------------------------------\n",
    "\n",
    "\n",
    "# IF YOU USE LOCAL ENVIRONMENT, DATA PATH EXAMPLE:\n",
    "# root_dir = '/home/user/CS464/HW3/CUB_200_2011'\n",
    "# -------------------------------------------------------\n",
    "\n",
    "root_dir = 'C:\\\\Users\\\\kerem\\\\Desktop\\\\HW3\\\\CUB_200_2011' # change the value of root_dir variable as your root path"
   ]
  },
  {
   "cell_type": "code",
   "execution_count": 178,
   "metadata": {
    "colab": {},
    "colab_type": "code",
    "id": "v9J1A54smof6"
   },
   "outputs": [],
   "source": [
    "def load_dataset(datadir, batch_size):\n",
    "    sizes = []\n",
    "    _, dirs, _ = next(os.walk(datadir))\n",
    "    for d in dirs:\n",
    "        _, _, files = next(os.walk(os.path.join(datadir, d)))\n",
    "        sizes.append(len(files))\n",
    "    sizes = np.array(sizes)\n",
    "\n",
    "    mlp_data_transform = transforms.Compose([transforms.Resize(256), transforms.RandomCrop(224), transforms.Grayscale(1), transforms.ToTensor()])\n",
    "    cnn_data_transform = transforms.Compose([transforms.Resize(256), transforms.RandomCrop(224), transforms.ToTensor()])\n",
    "\n",
    "    cnn_train_data = datasets.ImageFolder(datadir, transform=cnn_data_transform) #70\n",
    "    cnn_validation_data = datasets.ImageFolder(datadir, transform=cnn_data_transform) #10\n",
    "    cnn_test_data = datasets.ImageFolder(datadir, transform=cnn_data_transform) #20\n",
    "    \n",
    "    mlp_train_data = datasets.ImageFolder(datadir, transform=mlp_data_transform) #70\n",
    "    mlp_validation_data = datasets.ImageFolder(datadir, transform=mlp_data_transform) #10\n",
    "    mlp_test_data = datasets.ImageFolder(datadir, transform=mlp_data_transform) #20\n",
    "    \n",
    "    train_total = []\n",
    "    val_total = []\n",
    "    test_total = []\n",
    "    \n",
    "    prev_size = 0\n",
    "    for i in range(len(sizes)):\n",
    "        indices = np.arange(sizes[i])\n",
    "        train_split = int(np.floor(0.7 * sizes[i]))\n",
    "        val_split = int(np.floor(0.8 * sizes[i]))   \n",
    "        np.random.shuffle(indices)\n",
    "        train_idx, val_idx, test_idx = indices[0:train_split], indices[train_split:val_split], indices[val_split:]\n",
    "        train_total = [*train_total, *(train_idx+prev_size)]\n",
    "        val_total = [*val_total, *(val_idx+prev_size)]\n",
    "        test_total = [*test_total, *(test_idx+prev_size)]\n",
    "        prev_size += sizes[i]\n",
    "\n",
    "    train_sampler = SubsetRandomSampler(train_total)\n",
    "    val_sampler = SubsetRandomSampler(val_total)\n",
    "    test_sampler = SubsetRandomSampler(test_total)\n",
    "    \n",
    "    cnn_trainloader = torch.utils.data.DataLoader(cnn_train_data, sampler=train_sampler, batch_size=batch_size)\n",
    "    cnn_valloader = torch.utils.data.DataLoader(cnn_validation_data, sampler=val_sampler, batch_size=batch_size)\n",
    "    cnn_testloader = torch.utils.data.DataLoader(cnn_test_data, sampler=test_sampler, batch_size=batch_size)\n",
    "\n",
    "    mlp_trainloader = torch.utils.data.DataLoader(mlp_train_data, sampler=train_sampler, batch_size=batch_size)\n",
    "    mlp_valloader = torch.utils.data.DataLoader(mlp_validation_data, sampler=val_sampler, batch_size=batch_size)\n",
    "    mlp_testloader = torch.utils.data.DataLoader(mlp_test_data, sampler=test_sampler, batch_size=batch_size)\n",
    "\n",
    "    return cnn_trainloader,cnn_valloader, cnn_testloader, mlp_trainloader, mlp_valloader, mlp_testloader"
   ]
  },
  {
   "cell_type": "code",
   "execution_count": 179,
   "metadata": {},
   "outputs": [],
   "source": [
    "cnn_t, cnn_v, cnn_e, mlp_t, mlp_v, mlp_e = load_dataset(os.path.join(root_dir,\"images\"), 400)"
   ]
  },
  {
   "cell_type": "code",
   "execution_count": 200,
   "metadata": {},
   "outputs": [
    {
     "name": "stdout",
     "output_type": "stream",
     "text": [
      "Sample mlp processed image\n"
     ]
    },
    {
     "data": {
      "image/png": "[encoded data removed]",
      "text/plain": [
       "<Figure size 432x288 with 1 Axes>"
      ]
     },
     "metadata": {
      "needs_background": "light"
     },
     "output_type": "display_data"
    }
   ],
   "source": [
    "for i in mlp_e:\n",
    "    img = i[0][0][0].cpu().detach().numpy()\n",
    "    print(\"Sample mlp processed image\")\n",
    "    plt.imshow(Image.fromarray(img),cmap='gray')\n",
    "    break"
   ]
  },
  {
   "cell_type": "markdown",
   "metadata": {
    "colab_type": "text",
    "id": "XH-aq49nmof7"
   },
   "source": [
    "<b>Answer for Q2.a.3: </b> \n",
    "\n",
    "<b> Explain your augmentation method differences for two models?</b>\n",
    "\n",
    "<font>For MLP model; images are rescaled to (256,256) dimension, then they are cropped randomly into (224,224) dimension. Then images are converted into grayscale format and thresholding is applied. Threshold is 120. Then finally images are converted to tensor.\n",
    "\n",
    "For CNN model; images are again rescaled and randomly cropped. Then they are converted to tensor to make them suitable for training.\n",
    "\n",
    "Differences are in MLP pre-processing. I added Sobel Filtering and Thresholding. With that I aim to increase the performance of the MLP model since it is simpler model, applying same pre-processings may cause MLP model to underfit.</font>"
   ]
  },
  {
   "cell_type": "markdown",
   "metadata": {
    "colab_type": "text",
    "id": "DQJYQbTxmof8"
   },
   "source": [
    "### Q2.b. Multilayer Perceptron - 5 pts"
   ]
  },
  {
   "cell_type": "markdown",
   "metadata": {
    "colab_type": "text",
    "id": "-G3nIJGemof8"
   },
   "source": [
    "Implement the MLP model to solve this multiclass classification problem. For the MLP model, <b>accuracy for the top-5 classes on the test set has to be minimum 50%</b>. You have to design your network according to this limitation. \n",
    "\n",
    "1. <font color=blue>\\[Code\\]</font> Write your own MLP class which is inherited from torch.nn.Module class.\n",
    "2. <font color=blue>\\[Written\\]</font> How many layers are there in your network? How did you choose the number of layers? How many neurons are there in each layer? Did you use any activation functions? "
   ]
  },
  {
   "cell_type": "code",
   "execution_count": 0,
   "metadata": {
    "colab": {},
    "colab_type": "code",
    "id": "P5yj8Qadmof9"
   },
   "outputs": [],
   "source": [
    "class MLP(torch.nn.Module):\n",
    "    \n",
    "    #Our batch shape for input x is (3, 224, 224)\n",
    "    def __init__(self):\n",
    "        super(MLP, self).__init__()\n",
    "        \n",
    "        self.layers = nn.Sequential(\n",
    "            nn.Linear(224*224, 80000),\n",
    "            nn.ReLU(),\n",
    "            nn.Linear(80000, 40000),\n",
    "            nn.ReLU(),\n",
    "            nn.Linear(40000, 10000),\n",
    "            nn.ReLU(),\n",
    "            nn.Linear(10000, 1000),\n",
    "            nn.ReLU(),\n",
    "            nn.Linear(1000, 10)\n",
    "        )\n",
    "        \n",
    "    def forward(self, x):\n",
    "        # convert tensor (128, 1, 28, 28) --> (128, 1*28*28)\n",
    "        x = x.view(x.size(0), -1)\n",
    "        x = self.layers(x)\n",
    "        return x"
   ]
  },
  {
   "cell_type": "markdown",
   "metadata": {
    "colab_type": "text",
    "id": "b-aswCBBmof_"
   },
   "source": [
    "<b>Answer Q2.b.2:</b>\n",
    "\n",
    "<b>How many layers are there in your network? How did you choose the number of layers? How many neurons are there in each layer? Did you use any activation functions?</b>\n",
    "\n",
    "<font>My model have following architecture;   \n",
    "50176 --> 80000 --> 40000 --> 10000 --> 1000 --> 10 \n",
    "    \n",
    "In the input layer we have 224*224=50176 neurons since each image have (224,224) dimension. Then I tried to reduce number of neurons at following layers. I did not prefer to use deeper and wider architecture since training time might increase and model might overfit.\n",
    "\n",
    "</font>"
   ]
  },
  {
   "cell_type": "markdown",
   "metadata": {
    "colab_type": "text",
    "id": "9FoDEzO5mogA"
   },
   "source": [
    "### Q2.c. Convolutional Neural Network (CNN) - 8 pts"
   ]
  },
  {
   "cell_type": "markdown",
   "metadata": {
    "colab_type": "text",
    "id": "4dhHDdfNmogA"
   },
   "source": [
    "Implement the CNN model to solve this multiclass classification problem. For the CNN model, <b>accuracy fot the top-5 classes on the test set has to be minimum 75%</b>. You have to design your network according to that limitation. \n",
    "\n",
    "1. <font color=blue>\\[Code\\]</font> Write your own CNN class which is inherited from torch.nn.Module class.\n",
    "2. <font color=blue>\\[Written\\]</font> How many layers are there in your network? How did you choose the number of layers? How did you choose kernel sizes for each convolutional layer? Did you use any activation functions? "
   ]
  },
  {
   "cell_type": "code",
   "execution_count": 0,
   "metadata": {
    "colab": {},
    "colab_type": "code",
    "id": "mzmtIT55mogB"
   },
   "outputs": [],
   "source": [
    "# USE THIS CODE CELL TO DEFINE CNN CLASS\n",
    "class CNN(torch.nn.Module):\n",
    "    \n",
    "    #Our batch shape for input x is (3, 224, 224)\n",
    "    \n",
    "    def __init__(self):\n",
    "        super(CNN, self).__init__()\n",
    "        \n",
    "        self.layer1 = torch.nn.Sequential(\n",
    "            torch.nn.Conv2d(3, 64, kernel_size=3, stride=1, padding=1),\n",
    "            torch.nn.ReLU(),\n",
    "            torch.nn.MaxPool2d(kernel_size=2, stride=2))\n",
    "        \n",
    "        self.layer2 = torch.nn.Sequential(\n",
    "            torch.nn.Conv2d(64, 128, kernel_size=3, stride=1, padding=1),\n",
    "            torch.nn.ReLU(),\n",
    "            torch.nn.MaxPool2d(kernel_size=2, stride=2))\n",
    "        \n",
    "        self.layer3 = torch.nn.Sequential(\n",
    "            torch.nn.Conv2d(128, 256, kernel_size=3, stride=1, padding=1),\n",
    "            torch.nn.ReLU(),\n",
    "            torch.nn.Conv2d(256, 256, kernel_size=3, stride=1, padding=1),\n",
    "            torch.nn.ReLU(),\n",
    "            torch.nn.MaxPool2d(kernel_size=2, stride=2))\n",
    "        \n",
    "        self.layer4 = torch.nn.Sequential(\n",
    "            torch.nn.Conv2d(256, 512, kernel_size=3, stride=1, padding=1),\n",
    "            torch.nn.ReLU(),\n",
    "            torch.nn.Conv2d(512, 512, kernel_size=3, stride=1, padding=1),\n",
    "            torch.nn.ReLU(),\n",
    "            torch.nn.MaxPool2d(kernel_size=2, stride=2))\n",
    "        \n",
    "        self.layer5 = torch.nn.Sequential(\n",
    "            torch.nn.Conv2d(512, 512, kernel_size=3, stride=1, padding=1),\n",
    "            torch.nn.ReLU(),\n",
    "            torch.nn.Conv2d(512, 512, kernel_size=3, stride=1, padding=1),\n",
    "            torch.nn.ReLU(),\n",
    "            torch.nn.MaxPool2d(kernel_size=2, stride=2))\n",
    "        \n",
    "        self.classifier = torch.nn.Sequential(\n",
    "            torch.nn.Linear(512 * 7 * 7, 4096),\n",
    "            torch.nn.ReLU(True),\n",
    "            torch.nn.Dropout(),\n",
    "            torch.nn.Linear(4096, 4096),\n",
    "            torch.nn.ReLU(True),\n",
    "            torch.nn.Dropout(),\n",
    "            torch.nn.Linear(4096, 10),\n",
    "        )\n",
    "        \n",
    "    def forward(self, x):\n",
    "        out = self.layer1(x)\n",
    "        out = self.layer2(out)\n",
    "        out = self.layer3(out)\n",
    "        out = self.layer4(out)\n",
    "        out = self.layer5(out)\n",
    "        out = out.view(out.size(0), -1)\n",
    "        out = self.classifier(out)\n",
    "        return out"
   ]
  },
  {
   "cell_type": "markdown",
   "metadata": {
    "colab_type": "text",
    "id": "b6n-ZIaLmogD"
   },
   "source": [
    "<b>Anser for Q2.c.2:</b>\n",
    "\n",
    "<b>How many layers are there in your network? How did you choose the number of layers? How did you choose kernel sizes for each convolutional layer? Did you use any activation functions?</b>\n",
    "\n",
    "<font>\n",
    "My CNN architecture which has 8 convolution layers, 5 max-pool layers and 3 fully connected layers. I looked for popular and simple CNN architectures on the Internet and I decided to use that architecture. Kernel size, stripe and padding are also decided according to the models that I looked from Internet. Specifically this architecture is similar to VGG-11 model. I used ReLU as activation function after convolution and fully connected layers. In the last layer which classifies the images, I used Softmax function to obtain a probability distribution. I applied it in the loss calculation so in the model there is not softmax function.\n",
    "</font>"
   ]
  },
  {
   "cell_type": "markdown",
   "metadata": {
    "colab_type": "text",
    "id": "pJFOBm-ymogD"
   },
   "source": [
    "### Q2.d. Train MLP & CNN Networks - 13 pts"
   ]
  },
  {
   "cell_type": "markdown",
   "metadata": {
    "colab_type": "text",
    "id": "1kpZqiCgmogE"
   },
   "source": [
    "You are going to train MLP and CNN networks by using same training, validation and test samples. You have to solve a multiclass classification problem and you need to carefully select the appropriate loss function. You have minimum performance thresholds for both models. You need to select appropriate values for hyper-parameters to achieve these thresholds. You need to use SGD optimizer for this question. So far, you should have created three dataset splits for training, validation and testing. You will need to load these splits at this phase. Note that you will NOT perform cross validation. Evaluate your network performance after each epoch by using the validation set. Use matplotlib library for plotting figures.\n",
    "\n",
    "1. <font color=blue>\\[Code\\]</font> Implement training and validation functions for both network architectures. You have to print out average values of training loss, training top-1 accuracy (accuracy of the most accurately predicted class), validation loss and validation top-1 accuracy for each epoch.\n",
    "2. <font color=blue>\\[Figure\\]</font> For the MLP model, plot training loss and training top-1 accuracy of each iteration (each update). Also plot validation loss and validation top-1 accuracy at each epoch. \n",
    "3. <font color=blue>\\[Figure\\]</font> For the CNN model,  plot training loss and training top-1 accuracy of each iteration (each update). Also plot validation loss and validation top-1 accuracy at each epoch.\n",
    "4. <font color=blue>\\[Code\\]</font> Your models are going to run up to the max epoch parameter.  According to validation results pick the best models for both architectures. You are going to use these models at the test phase. You need to save them in a \".pth\" files.\n",
    "5. <font color=blue>\\[Written\\]</font> Which loss function did you use? Why did you choose it?\n",
    "6. <font color=blue>\\[Written\\]</font> Explain how you selected the hyperparameters of the training phases for both MLP and CNN models."
   ]
  },
  {
   "cell_type": "code",
   "execution_count": 0,
   "metadata": {
    "colab": {},
    "colab_type": "code",
    "id": "oTXe1ob1mogE"
   },
   "outputs": [],
   "source": [
    "# USE THIS CODE CELL TO SPECIFY YOUR BEST MODEL PATHS THAT WILL BE USED TO SAVE MODELS.\n",
    "\n",
    "BEST_MLP_PATH = '' # change the value of BEST_MLP_PATH variable as your path\n",
    "BEST_CNN_PATH = '' # change the value of BEST_CNN_PATH variable as your path"
   ]
  },
  {
   "cell_type": "code",
   "execution_count": null,
   "metadata": {},
   "outputs": [],
   "source": [
    "def accuracy(output, target, topk=(1,)):\n",
    "    with torch.no_grad():\n",
    "        maxk = max(topk)\n",
    "        batch_size = target.size(0)\n",
    "        _, pred = output.topk(maxk, 1, True, True)\n",
    "        pred = pred.t()\n",
    "        correct = pred.eq(target.view(1, -1).expand_as(pred))\n",
    "        res = []\n",
    "        for k in topk:\n",
    "            correct_k = correct[:k].view(-1).float().sum(0, keepdim=True)\n",
    "            res.append(correct_k.mul_(100.0 / batch_size))\n",
    "        return res"
   ]
  },
  {
   "cell_type": "code",
   "execution_count": null,
   "metadata": {},
   "outputs": [],
   "source": [
    "def train(model, learning_rate):\n",
    "    #Loss function and optimizer\n",
    "    loss = torch.nn.CrossEntropyLoss()\n",
    "    optimizer = optim.SGD(model.parameters(), lr=learning_rate, momentum=0.9)   \n",
    "    \n",
    "    batch_loss = []\n",
    "    batch_acc = []    \n",
    "    \n",
    "    for i, data in enumerate(train_loader, 0):\n",
    "        #Set the parameter gradients to zero\n",
    "        optimizer.zero_grad()\n",
    "\n",
    "        #Forward pass, backward pass, optimize\n",
    "        outputs = model(data[0].cuda())\n",
    "        tot_loss = loss(outputs, data[1].cuda())\n",
    "        tot_loss.backward()\n",
    "        optimizer.step()\n",
    "\n",
    "        batch_loss.append(tot_loss.item())\n",
    "        batch_acc.append(accuracy(outputs, data[1].cuda(), (5,))[0].item())\n",
    "\n",
    "    # Loss and Accuracy\n",
    "    train_loss = np.sum(batch_loss)/len(batch_loss)\n",
    "    train_accuracy = np.sum(batch_acc)/len(batch_acc)\n",
    "    \n",
    "    return train_loss, train_accuracy          "
   ]
  },
  {
   "cell_type": "code",
   "execution_count": null,
   "metadata": {},
   "outputs": [],
   "source": [
    "def evaluate(model):\n",
    "    #Loss function and optimizer\n",
    "    loss = torch.nn.CrossEntropyLoss()\n",
    "    \n",
    "    v_batch_loss = []\n",
    "    v_batch_acc = []\n",
    "    model.eval()\n",
    "    with torch.no_grad():\n",
    "        for images, labels in val_loader:\n",
    "            outputs = model(images.cuda())\n",
    "            v_loss = loss(outputs, labels.cuda())\n",
    "            v_batch_loss.append(v_loss.item())\n",
    "            v_batch_acc.append(accuracy(outputs, labels.cuda(), (5,))[0].item())\n",
    "\n",
    "        validation_loss = np.sum(v_batch_loss)/len(v_batch_loss)\n",
    "        validation_accuracy = np.sum(v_batch_acc)/len(v_batch_acc)\n",
    "\n",
    "        return validation_loss, validation_accuracy   "
   ]
  },
  {
   "cell_type": "code",
   "execution_count": null,
   "metadata": {},
   "outputs": [],
   "source": [
    "# CNN Training\n",
    "# Hyperparameters\n",
    "n_epochs = 50\n",
    "learning_rate = 0.01\n",
    "batch_size = 64\n",
    "\n",
    "# Load Data\n",
    "train_loader = cnn_t\n",
    "val_loader = cnn_v\n",
    "\n",
    "# Load Model\n",
    "model = CNN()\n",
    "model.cuda()\n",
    "\n",
    "print(\"Training Started\\n\")\n",
    "tr_loss = []\n",
    "tr_acc = []\n",
    "\n",
    "val_loss = []\n",
    "val_acc = []\n",
    "\n",
    "# Train the model\n",
    "total_step = len(train_loader)\n",
    "\n",
    "# Each Epoch\n",
    "for epoch in range(n_epochs):\n",
    "    torch.cuda.empty_cache()\n",
    "    train_loss, train_accuracy = train(model, learning_rate)\n",
    "    validation_loss, validation_accuracy = evaluate(model)\n",
    "    \n",
    "    print('Epoch [{}/{}], Num_Batch [{}]' .format(epoch + 1, n_epochs, total_step))\n",
    "    \n",
    "    print('Training Loss: {:.4f}, Training Accuracy: {:.2f}%' .format(train_loss, train_accuracy))\n",
    "    tr_loss.append(train_loss)\n",
    "    tr_acc.append(train_accuracy)\n",
    "    \n",
    "    print('Validation Loss: {:.4f}, Validation Accuracy: {:.2f}%\\n' .format(validation_loss, validation_accuracy))\n",
    "    val_loss.append(validation_loss)\n",
    "    val_acc.append(validation_accuracy)\n",
    "    \n",
    "print(\"Training Ended\")\n",
    "torch.save(model.state_dict(), FROM_SCRATCH_MODEL_PATH)"
   ]
  },
  {
   "cell_type": "code",
   "execution_count": null,
   "metadata": {},
   "outputs": [],
   "source": [
    "epochs = np.arange(n_epochs)+1\n",
    "f = plt.figure()\n",
    "ax = f.add_subplot(111)\n",
    "ax.plot(epochs, tr_loss, '-', label=\"Training Loss\")\n",
    "ax.plot(epochs,val_loss, '-', label=\"Validation Loss\")\n",
    "ax.legend()\n",
    "\n",
    "ax.set_xlabel('Epoch Count')\n",
    "ax.set_ylabel('Total Loss')\n",
    "ax.set_title('Training Loss vs Validation Loss')\n",
    "\n",
    "g = plt.figure()\n",
    "bx = g.add_subplot(111)\n",
    "bx.plot(epochs, tr_acc, '-', label=\"Training Accuracy\")\n",
    "bx.plot(epochs, val_acc, '-', label=\"Validation Accuracy\")\n",
    "bx.legend()\n",
    "\n",
    "bx.set_xlabel('Epoch Count')\n",
    "bx.set_ylabel('Top-5 Accuracy')\n",
    "bx.set_title('Training Accuracy vs Validation Accuracy')\n",
    "print()"
   ]
  },
  {
   "cell_type": "code",
   "execution_count": null,
   "metadata": {},
   "outputs": [],
   "source": [
    "# MLP Training\n",
    "# Hyperparameters\n",
    "n_epochs = 50\n",
    "learning_rate = 0.01\n",
    "batch_size = 64\n",
    "\n",
    "train_loader = mlp_t\n",
    "val_loader = mlp_v\n",
    "\n",
    "# Load Model\n",
    "model = MLP()\n",
    "model.cuda()\n",
    "\n",
    "print(\"Training Started\\n\")\n",
    "tr_loss = []\n",
    "tr_acc = []\n",
    "\n",
    "val_loss = []\n",
    "val_acc = []\n",
    "\n",
    "# Train the model\n",
    "total_step = len(train_loader)\n",
    "\n",
    "# Each Epoch\n",
    "for epoch in range(n_epochs):\n",
    "    torch.cuda.empty_cache()\n",
    "    train_loss, train_accuracy = train(model, learning_rate)\n",
    "    validation_loss, validation_accuracy = evaluate(model)\n",
    "    \n",
    "    print('Epoch [{}/{}], Num_Batch [{}]' .format(epoch + 1, n_epochs, total_step))\n",
    "    \n",
    "    print('Training Loss: {:.4f}, Training Accuracy: {:.2f}%' .format(train_loss, train_accuracy))\n",
    "    tr_loss.append(train_loss)\n",
    "    tr_acc.append(train_accuracy)\n",
    "    \n",
    "    print('Validation Loss: {:.4f}, Validation Accuracy: {:.2f}%\\n' .format(validation_loss, validation_accuracy))\n",
    "    val_loss.append(validation_loss)\n",
    "    val_acc.append(validation_accuracy)\n",
    "    \n",
    "print(\"Training Ended\")\n",
    "torch.save(model.state_dict(), FROM_SCRATCH_MODEL_PATH)"
   ]
  },
  {
   "cell_type": "code",
   "execution_count": null,
   "metadata": {},
   "outputs": [],
   "source": [
    "epochs = np.arange(n_epochs)+1\n",
    "f = plt.figure()\n",
    "ax = f.add_subplot(111)\n",
    "ax.plot(epochs, tr_loss, '-', label=\"Training Loss\")\n",
    "ax.plot(epochs,val_loss, '-', label=\"Validation Loss\")\n",
    "ax.legend()\n",
    "\n",
    "ax.set_xlabel('Epoch Count')\n",
    "ax.set_ylabel('Total Loss')\n",
    "ax.set_title('Training Loss vs Validation Loss')\n",
    "\n",
    "g = plt.figure()\n",
    "bx = g.add_subplot(111)\n",
    "bx.plot(epochs, tr_acc, '-', label=\"Training Accuracy\")\n",
    "bx.plot(epochs, val_acc, '-', label=\"Validation Accuracy\")\n",
    "bx.legend()\n",
    "\n",
    "bx.set_xlabel('Epoch Count')\n",
    "bx.set_ylabel('Top-5 Accuracy')\n",
    "bx.set_title('Training Accuracy vs Validation Accuracy')\n",
    "print()"
   ]
  },
  {
   "cell_type": "markdown",
   "metadata": {
    "colab_type": "text",
    "id": "Hsorn2namogQ"
   },
   "source": [
    "<b>Answer for Q2.d.5:</b>\n",
    "\n",
    "<b>Which loss function did you use? Why did you choose it?</b>\n",
    "\n",
    "<font>I used Cross Entropy Loss as a loss function in my Convolutional Neural Network model. The main reason that I choose Cross Entropy Loss is that it is the best loss function for multi-class classification problems. Since we have 10 different output labels, it is not suitable to use loss functions like L1, L2. </font>"
   ]
  },
  {
   "cell_type": "markdown",
   "metadata": {
    "colab_type": "text",
    "id": "crgSyKmAmogR"
   },
   "source": [
    "<b>Answer for Q2.d.6:</b>\n",
    "\n",
    "<b>Explain how you selected the hyperparameters of the training phases for both MLP and CNN models..</b>\n",
    "\n",
    "<font>From the experience that I gained from previous question, I used same hyperparameters in both of the models where epoch=20, learning rate=0.01, batch size =64. Also I could not play with the hyperparameters that much since training these models took a lot of time.</font>"
   ]
  },
  {
   "cell_type": "markdown",
   "metadata": {
    "colab_type": "text",
    "id": "A9QdSzdPmogS"
   },
   "source": [
    "### Q2.e. Test MLP & CNN Networks - 9 pts"
   ]
  },
  {
   "cell_type": "markdown",
   "metadata": {
    "colab_type": "text",
    "id": "4EWyqxSzmogT"
   },
   "source": [
    "You should have obtained two trained networks so far. One of them comes from the MLP model and the other is from the CNN model. In this part, you need to compare these two trained networks by using the test set.\n",
    "\n",
    "1. <font color=blue>\\[Code\\]</font> Load saved '.pth' file for the MLP model. Test this model by using the test set.\n",
    "2. <font color=blue>\\[Code\\]</font> Load saved '.pth' file for the CNN model. Test this model by using the test set.\n",
    "3. <font color=blue>\\[Figure\\]</font> Display randomly selected 20 images from the test set with the predicted and ground truth labels. Show these images in a grid (4x5).\n",
    "3. <font color=blue>\\[Written\\]</font> Give the top-1 and top-5 accuracy values on the test set for the MLP and the CNN models. Which architecture does work better than the other? Explain why."
   ]
  },
  {
   "cell_type": "code",
   "execution_count": 0,
   "metadata": {
    "colab": {},
    "colab_type": "code",
    "id": "e82IrOFJmogU"
   },
   "outputs": [],
   "source": [
    "# USE THIS CODE CELL TO IMPLEMENT TEST FUNCTION WHICH IS COMMON FOR BOTH MODEL\n",
    "\n",
    "# --- Representative Code Snippet ---\n",
    "# def test(**kwargs):"
   ]
  },
  {
   "cell_type": "code",
   "execution_count": 0,
   "metadata": {
    "colab": {},
    "colab_type": "code",
    "id": "t8wu4_4HmogW"
   },
   "outputs": [],
   "source": [
    "# USE THIS CODE CELL TO LOAD BEST MLP MODEL\n",
    "# LOAD TEST SAMPLES\n",
    "# GET THE TEST RESULTS, PRINT OUT TEST METRICS\n",
    "\n",
    "# --- Representative Code Snippet ---\n",
    "# testloader = torch.utils.data.DataLoader(test_dataset, batch_size=n_batch, num_workers=n_workers)\n",
    "# model = MLP(**kwargs)\n",
    "# model.load_state_dict(torch.load(BEST_MLP_PATH))\n",
    "# model.eval()\n",
    "# test(model)"
   ]
  },
  {
   "cell_type": "code",
   "execution_count": 0,
   "metadata": {
    "colab": {},
    "colab_type": "code",
    "id": "VV7o3CI_mogY"
   },
   "outputs": [],
   "source": [
    "# USE THIS CODE CELL TO LOAD BEST CNN MODEL\n",
    "# LOAD TEST SAMPLES\n",
    "# GET THE TEST RESULTS, PRINT OUT TEST METRICS\n",
    "\n",
    "# --- Representative Code Snippet ---\n",
    "# testloader = torch.utils.data.DataLoader(test_dataset, batch_size=n_batch, num_workers=n_workers)\n",
    "# model = CNN(**kwargs)\n",
    "# model.load_state_dict(torch.load(BEST_CNN_PATH))\n",
    "# model.eval()\n",
    "# test(model)"
   ]
  },
  {
   "cell_type": "code",
   "execution_count": 0,
   "metadata": {
    "colab": {},
    "colab_type": "code",
    "id": "N720O4q7mogc"
   },
   "outputs": [],
   "source": [
    "# USE THIS CODE CELL TO DISPLAY RANDOMLY SELECTED TEST SAMPLES WITH THEIR PREDICTED AND TARGET LABELS [Answer: Q2.e.3]"
   ]
  },
  {
   "cell_type": "markdown",
   "metadata": {
    "colab_type": "text",
    "id": "efwgiTNpmoge"
   },
   "source": [
    "<b>Answer for Q2.e.4:</b>\n",
    "\n",
    "<b>USE THIS MARKDOWN CELL TO GIVE YOUR ANSWER FOR THE WRITTEN QUESTION.</b>\n",
    "\n",
    "<font color=blue>Double click to this text to write your answer !!!</font>"
   ]
  },
  {
   "cell_type": "markdown",
   "metadata": {
    "colab_type": "text",
    "id": "roJ-yjf2moge"
   },
   "source": [
    "### Q2.f. Activation and Feature Map Visualization - 15 pts "
   ]
  },
  {
   "cell_type": "markdown",
   "metadata": {
    "colab_type": "text",
    "id": "al2pJpOpmogf"
   },
   "source": [
    "You have trained your CNN model. For this trained network, you will visualize the weights and outputs of the randomly selected (at most) 100 filters (feature maps) from the last convolutional layer, as images in a square grid format (10x10). You should select a single image from the test set to display its activation maps extracted from selected 100 filters. \n",
    "\n",
    "1. <font color=blue>\\[Figure\\]</font> Select an image from the test set and display it.\n",
    "2. <font color=blue>\\[Figure\\]</font> Display the weights of randomly selected at most 100 filters from the last convolutional layer. Each filter weight should be represented as an image in a square grid.\n",
    "3. <font color=blue>\\[Figure\\]</font> For the selected sample, compute the activation maps for the 100 filters (from 2nd question). Display each activation map as an image in a square grid (10x10).\n",
    "4. <font color=blue>\\[Written\\]</font> Explain what these activation maps represent and why they are important."
   ]
  },
  {
   "cell_type": "code",
   "execution_count": 0,
   "metadata": {
    "colab": {},
    "colab_type": "code",
    "id": "fD2cAXDYmogf"
   },
   "outputs": [],
   "source": [
    "# USE THIS CODE CELL TO DISPLAY SELECTED SINGLE SAMPLE FROM TEST SET [Answer: Q2.f.1]"
   ]
  },
  {
   "cell_type": "code",
   "execution_count": 0,
   "metadata": {
    "colab": {},
    "colab_type": "code",
    "id": "DAn85o5rmogh"
   },
   "outputs": [],
   "source": [
    "# USE THIS CODE CELL TO DISPLAY WEIGHTS OF THE SELECTED KERNELS [Answer: Q2.f.2]"
   ]
  },
  {
   "cell_type": "code",
   "execution_count": 0,
   "metadata": {
    "colab": {},
    "colab_type": "code",
    "id": "3RpX8EMAmogk"
   },
   "outputs": [],
   "source": [
    "# USE THIS CODE CELL TO DISPLAY OUTPUTS OF THE SELECTED KERNELS [Answer: Q2.f.3]"
   ]
  },
  {
   "cell_type": "markdown",
   "metadata": {
    "colab_type": "text",
    "id": "DvSOp_zimogm"
   },
   "source": [
    "<b>Answer for Q2.f.4:</b>\n",
    "\n",
    "<b>Explain what these activation maps represent and why they are important.</b>\n",
    "\n",
    "<font>In the activation maps, first layers represent low level features of bird images, such as edges, rectangles, triangles etc. When we move through the last layers we get more high level features like wings, noses, heads etc. This implies that our models learn the hidden features of the images without explicitly stating them. These are important for models to make correct classification.</font>"
   ]
  }
 ],
 "metadata": {
  "accelerator": "GPU",
  "colab": {
   "collapsed_sections": [
    "A9QdSzdPmogS"
   ],
   "name": "CS464_HW3_Kerem_Ayoz.ipynb",
   "provenance": [],
   "toc_visible": true,
   "version": "0.3.2"
  },
  "kernelspec": {
   "display_name": "Python 3",
   "language": "python",
   "name": "python3"
  },
  "language_info": {
   "codemirror_mode": {
    "name": "ipython",
    "version": 3
   },
   "file_extension": ".py",
   "mimetype": "text/x-python",
   "name": "python",
   "nbconvert_exporter": "python",
   "pygments_lexer": "ipython3",
   "version": "3.5.6"
  }
 },
 "nbformat": 4,
 "nbformat_minor": 1
}

{
 "cells": [
  {
   "cell_type": "code",
   "execution_count": 1,
   "metadata": {},
   "outputs": [],
   "source": [
    "import numpy as np\n",
    "import pandas as pd\n",
    "np.warnings.filterwarnings('ignore')"
   ]
  },
  {
   "cell_type": "code",
   "execution_count": 2,
   "metadata": {},
   "outputs": [],
   "source": [
    "# Load the dataset\n",
    "test_feature = pd.read_csv(\"question-4-test-features.csv\", header=None)\n",
    "test_label = pd.read_csv(\"question-4-test-labels.csv\", header=None)\n",
    "train_feature = pd.read_csv(\"question-4-train-features.csv\", header=None)\n",
    "train_label = pd.read_csv(\"question-4-train-labels.csv\", header=None)\n",
    "labels = [\"negative\", \"neutral\", \"positive\"]"
   ]
  },
  {
   "cell_type": "code",
   "execution_count": 3,
   "metadata": {},
   "outputs": [],
   "source": [
    "# Concatinated training data for multinomial and bernoulli\n",
    "train_multinomial = pd.concat((train_feature, train_label[0].rename(\"label\")),axis=1)\n",
    "train_bernoulli = train_feature.copy()\n",
    "train_bernoulli[train_bernoulli!=0] = 1\n",
    "train_bernoulli = pd.concat((train_bernoulli, train_label[0].rename(\"label\")),axis=1)"
   ]
  },
  {
   "cell_type": "code",
   "execution_count": 4,
   "metadata": {},
   "outputs": [],
   "source": [
    "# Vocab is read\n",
    "with open('question-4-vocab.txt', 'r', encoding=\"utf-8\") as f:\n",
    "    lines = f.readlines()\n",
    "words = [word.split(\"\\t\")[0] for word in lines]\n",
    "counts = [int(word.split(\"\\t\")[1][:-1]) for word in lines]"
   ]
  },
  {
   "cell_type": "code",
   "execution_count": 5,
   "metadata": {},
   "outputs": [],
   "source": [
    "# Safe divide\n",
    "def div(x,y):\n",
    "    if y == 0:\n",
    "        return 0\n",
    "    return x / y"
   ]
  },
  {
   "cell_type": "code",
   "execution_count": 6,
   "metadata": {},
   "outputs": [],
   "source": [
    "# Calculate the P(Y = yk) for each class\n",
    "prior = [0,0,0]\n",
    "label_counts = train_label[0].value_counts()\n",
    "prior[0] = np.log(div(label_counts[0], len(train_feature))) #negative\n",
    "prior[1] = np.log(div(label_counts[1], len(train_feature))) #neutral\n",
    "prior[2] = np.log(div(label_counts[2], len(train_feature))) #positive"
   ]
  },
  {
   "cell_type": "code",
   "execution_count": 7,
   "metadata": {},
   "outputs": [],
   "source": [
    "# Total word counts in each class of documents\n",
    "negative_words = train_multinomial.groupby(\"label\").sum().sum(axis=1)[0]\n",
    "neutral_words = train_multinomial.groupby(\"label\").sum().sum(axis=1)[1]\n",
    "positive_words = train_multinomial.groupby(\"label\").sum().sum(axis=1)[2]"
   ]
  },
  {
   "cell_type": "code",
   "execution_count": 8,
   "metadata": {},
   "outputs": [],
   "source": [
    "##########################################################################\n",
    "###########################    MLE    ####################################\n",
    "##########################################################################"
   ]
  },
  {
   "cell_type": "code",
   "execution_count": 9,
   "metadata": {},
   "outputs": [],
   "source": [
    "# P(Xj | Y = yk) for each word Xj and each class yk, log is taken\n",
    "pr_words_mle = np.full((len(words), 3),0, dtype=float)\n",
    "\n",
    "for i in range(len(words)):\n",
    "    occurences = train_multinomial.iloc[:, [i, len(words)]].groupby(\"label\").sum()[i]\n",
    "    pr_words_mle[i][0] = np.log(div(occurences[0],negative_words)) #negative\n",
    "    pr_words_mle[i][1] = np.log(div(occurences[1],neutral_words)) #neutral\n",
    "    pr_words_mle[i][2] = np.log(div(occurences[2],positive_words)) #positive"
   ]
  },
  {
   "cell_type": "code",
   "execution_count": 10,
   "metadata": {},
   "outputs": [],
   "source": [
    "# Calculate prediction values\n",
    "pr_words_mle = np.nan_to_num(pr_words_mle)\n",
    "results_mle = np.dot(test_feature, pr_words_mle) + np.array(prior)\n",
    "\n",
    "# Fix the too big/small values\n",
    "results_mle[results_mle > 1e100] = np.inf\n",
    "results_mle[results_mle < -1e100] = -np.inf"
   ]
  },
  {
   "cell_type": "code",
   "execution_count": 11,
   "metadata": {},
   "outputs": [],
   "source": [
    "# Predict\n",
    "prediction_values = np.amax(results_mle, axis=1)\n",
    "candidates = []\n",
    "for i in range(len(prediction_values)):\n",
    "    candidates.append(np.where(results_mle[i] == prediction_values[i])[0])\n",
    "candidates = np.array(candidates)\n",
    "\n",
    "predicted_mle = np.ones(np.shape(candidates), dtype=object)\n",
    "\n",
    "for i in range(len(candidates)):\n",
    "    if len(candidates[i]) > 1: #tie\n",
    "        predicted_mle[i] = labels[1]\n",
    "    else:\n",
    "        predicted_mle[i] = labels[candidates[i][0]]"
   ]
  },
  {
   "cell_type": "code",
   "execution_count": 12,
   "metadata": {},
   "outputs": [
    {
     "name": "stdout",
     "output_type": "stream",
     "text": [
      "0.6280737704918032\n"
     ]
    }
   ],
   "source": [
    "# Accuracy\n",
    "accuracy_mle = np.sum(predicted_mle == test_label[0].values) / len(test_label)\n",
    "print(accuracy_mle)"
   ]
  },
  {
   "cell_type": "code",
   "execution_count": 13,
   "metadata": {},
   "outputs": [],
   "source": [
    "##########################################################################\n",
    "###########################    MAP    ####################################\n",
    "##########################################################################"
   ]
  },
  {
   "cell_type": "code",
   "execution_count": 14,
   "metadata": {},
   "outputs": [],
   "source": [
    "# P(Xj | Y = yk) for each word Xj and each class yk, log is taken, alpha=1\n",
    "pr_words_map = np.full((len(words), 3),0, dtype=float)\n",
    "\n",
    "for i in range(len(words)):\n",
    "    occurences = train_multinomial.iloc[:, [i, len(words)]].groupby(\"label\").sum()[i]\n",
    "    pr_words_map[i][0] = np.log(div(occurences[0]+1,negative_words + len(words))) #negative\n",
    "    pr_words_map[i][1] = np.log(div(occurences[1]+1,neutral_words + len(words))) #neutral\n",
    "    pr_words_map[i][2] = np.log(div(occurences[2]+1,positive_words + len(words))) #positive"
   ]
  },
  {
   "cell_type": "code",
   "execution_count": 15,
   "metadata": {},
   "outputs": [],
   "source": [
    "# Calculate prediction values\n",
    "pr_words_map = np.nan_to_num(pr_words_map)\n",
    "results_map = np.dot(test_feature, pr_words_map) + np.array(prior)\n",
    "\n",
    "# Fix the too big/small values\n",
    "results_map[results_map > 1e100] = np.inf\n",
    "results_map[results_map < -1e100] = -np.inf"
   ]
  },
  {
   "cell_type": "code",
   "execution_count": 16,
   "metadata": {},
   "outputs": [],
   "source": [
    "# Predict\n",
    "prediction_values = np.amax(results_map, axis=1)\n",
    "\n",
    "candidates = []\n",
    "for i in range(len(prediction_values)):\n",
    "    candidates.append(np.where(results_map[i] == prediction_values[i])[0])\n",
    "candidates = np.array(candidates)\n",
    "\n",
    "predicted_map = np.ones(len(candidates), dtype=object)\n",
    "\n",
    "for i in range(len(candidates)):\n",
    "    if len(candidates[i]) > 1: #tie\n",
    "        predicted_map[i] = labels[1]\n",
    "    else:\n",
    "        predicted_map[i] = labels[candidates[i][0]]"
   ]
  },
  {
   "cell_type": "code",
   "execution_count": 17,
   "metadata": {},
   "outputs": [
    {
     "name": "stdout",
     "output_type": "stream",
     "text": [
      "0.7530737704918032\n"
     ]
    }
   ],
   "source": [
    "# Accuracy\n",
    "accuracy_map = np.sum(predicted_map == test_label[0].values) / len(test_label)\n",
    "print(accuracy_map)"
   ]
  },
  {
   "cell_type": "code",
   "execution_count": 18,
   "metadata": {},
   "outputs": [],
   "source": [
    "##########################################################################\n",
    "##########################   Bernoulli  ##################################\n",
    "##########################################################################"
   ]
  },
  {
   "cell_type": "code",
   "execution_count": 19,
   "metadata": {},
   "outputs": [],
   "source": [
    "# P(Xj | Y = yk) for each word Xj and each class yk, log is taken, alpha=1\n",
    "pr_words = np.full((len(words), 3),0, dtype=float)\n",
    "\n",
    "for i in range(len(words)):\n",
    "    occurences = train_bernoulli.iloc[:, [i, len(words)]].groupby(\"label\").sum()[i]\n",
    "    pr_words[i][0] = div(occurences[0],label_counts[0]) #negative\n",
    "    pr_words[i][1] = div(occurences[1],label_counts[1]) #neutral\n",
    "    pr_words[i][2] = div(occurences[2],label_counts[2]) #positive"
   ]
  },
  {
   "cell_type": "code",
   "execution_count": 20,
   "metadata": {},
   "outputs": [],
   "source": [
    "# Calculate prediction values\n",
    "pr_words_comp = np.array(1) - pr_words\n",
    "test_feature_comp = np.array(1) - test_feature\n",
    "\n",
    "neg = test_feature*np.transpose(pr_words)[0] + test_feature_comp*np.transpose(pr_words_comp)[0]\n",
    "neu = test_feature*np.transpose(pr_words)[1] + test_feature_comp*np.transpose(pr_words_comp)[1]\n",
    "pos = test_feature*np.transpose(pr_words)[2] + test_feature_comp*np.transpose(pr_words_comp)[2]\n",
    "\n",
    "results_ber = np.transpose([np.sum(np.log(neg), axis=1), np.sum(np.log(neu), axis=1), np.sum(np.log(pos), axis=1)]) + np.array(prior)"
   ]
  },
  {
   "cell_type": "code",
   "execution_count": 21,
   "metadata": {},
   "outputs": [],
   "source": [
    "# Predict\n",
    "prediction_values = np.amax(results_ber, axis=1)\n",
    "candidates = []\n",
    "for i in range(len(prediction_values)):\n",
    "    candidates.append(np.where(results_ber[i] == prediction_values[i])[0])\n",
    "candidates = np.array(candidates)\n",
    "\n",
    "predicted_ber = np.ones(np.shape(candidates), dtype=object)\n",
    "for i in range(len(candidates)):\n",
    "    if len(candidates[i]) > 1: #tie\n",
    "        predicted_ber[i] = labels[1]\n",
    "    else:\n",
    "        predicted_ber[i] = labels[candidates[i][0]]"
   ]
  },
  {
   "cell_type": "code",
   "execution_count": 22,
   "metadata": {},
   "outputs": [
    {
     "name": "stdout",
     "output_type": "stream",
     "text": [
      "0.6431010928961749\n"
     ]
    }
   ],
   "source": [
    "# Accuracy\n",
    "accuracy_ber = np.sum(predicted_ber == test_label[0].values) / len(test_label)\n",
    "print(accuracy_ber)"
   ]
  },
  {
   "cell_type": "code",
   "execution_count": 45,
   "metadata": {},
   "outputs": [
    {
     "name": "stdout",
     "output_type": "stream",
     "text": [
      "flight\n",
      "@united\n",
      "@usairways\n",
      "@americanair\n",
      "@southwestair\n",
      "@jetblue\n",
      "cancelled\n",
      "service\n",
      "help\n",
      "time\n",
      "customer\n",
      "hours\n",
      "flights\n",
      "hold\n",
      "plane\n",
      "delayed\n",
      "gate\n",
      "@virginamerica\n",
      "call\n",
      "flightled\n"
     ]
    }
   ],
   "source": [
    "# Find most common words\n",
    "words = np.array([word.split(\"\\t\")[0] for word in lines])\n",
    "counts = np.array([int(word.split(\"\\t\")[1][:-1]) for word in lines])\n",
    "\n",
    "dataset = pd.DataFrame({'word': words, 'count': list(counts)}, columns=['word', 'count'])\n",
    "\n",
    "\n",
    "common_ones = list(dataset.sort_values(\"count\", ascending=False)[0:20][\"word\"])\n",
    "for i in common_ones:\n",
    "    print(i)"
   ]
  }
 ],
 "metadata": {
  "kernelspec": {
   "display_name": "Python 3",
   "language": "python",
   "name": "python3"
  },
  "language_info": {
   "codemirror_mode": {
    "name": "ipython",
    "version": 3
   },
   "file_extension": ".py",
   "mimetype": "text/x-python",
   "name": "python",
   "nbconvert_exporter": "python",
   "pygments_lexer": "ipython3",
   "version": "3.7.0"
  }
 },
 "nbformat": 4,
 "nbformat_minor": 2
}

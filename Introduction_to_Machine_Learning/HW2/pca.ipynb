{
 "cells": [
  {
   "cell_type": "code",
   "execution_count": 1,
   "metadata": {},
   "outputs": [],
   "source": [
    "import numpy as np\n",
    "import pandas as pd\n",
    "import matplotlib.pyplot as plt\n",
    "import PIL\n",
    "import os\n",
    "import cv2\n",
    "from os.path import join\n",
    "from sklearn.preprocessing import normalize\n",
    "from sklearn.decomposition import PCA\n",
    "from PIL import Image"
   ]
  },
  {
   "cell_type": "code",
   "execution_count": 2,
   "metadata": {},
   "outputs": [],
   "source": [
    "dataset_path = \"lfwdataset\"\n",
    "all_files = os.listdir(dataset_path)\n",
    "x = np.ones((len(all_files),4096))\n",
    "\n",
    "for i in range(len(all_files)):\n",
    "    image = PIL.Image.open(join(dataset_path, all_files[i]))\n",
    "    image = np.array(image)\n",
    "    x[i] = image.ravel()"
   ]
  },
  {
   "cell_type": "code",
   "execution_count": 19,
   "metadata": {},
   "outputs": [
    {
     "name": "stdout",
     "output_type": "stream",
     "text": [
      "[0.7174532595352481, 0.8038657391339594, 0.8823767228309983, 0.9413179444873445, 0.9783784893751633, 0.9956126193446547, 0.9999999999999999, 0.9999999999999999, 0.9999999999999999]\n"
     ]
    }
   ],
   "source": [
    "# Apply PCA and get PVE values\n",
    "k = [16,32,64,128,256,512,1024,2048,4096]\n",
    "variance_ratios = []\n",
    "for i in k:\n",
    "    pca = PCA(i)\n",
    "    covariance = pca.fit_transform(x)\n",
    "    variance_ratios.append(np.sum(pca.explained_variance_ratio_)) "
   ]
  },
  {
   "cell_type": "code",
   "execution_count": 28,
   "metadata": {},
   "outputs": [
    {
     "data": {
      "text/plain": [
       "Text(0.5, 1.0, 'Variance vs Number of Principal Components')"
      ]
     },
     "execution_count": 28,
     "metadata": {},
     "output_type": "execute_result"
    },
    {
     "data": {
      "image/png": "[encoded data removed]",
      "text/plain": [
       "<Figure size 432x288 with 1 Axes>"
      ]
     },
     "metadata": {
      "needs_background": "light"
     },
     "output_type": "display_data"
    }
   ],
   "source": [
    "plt.plot( np.transpose(k), variance_ratios)\n",
    "plt.scatter(np.transpose(k), variance_ratios)\n",
    "plt.ylabel(\"Variance Explained\")\n",
    "plt.xlabel(\"k\")\n",
    "plt.title(\"Variance vs Number of Principal Components\")"
   ]
  },
  {
   "cell_type": "code",
   "execution_count": 5,
   "metadata": {},
   "outputs": [],
   "source": [
    "# Draw original images of first 6 people\n",
    "\n",
    "samples = [\"Aaron_Eckhart_0001.pgm\",\n",
    "\"Aaron_Guiel_0001.pgm\",\n",
    "\"Aaron_Patterson_0001.pgm\",\n",
    "\"Aaron_Peirsol_0001.pgm\",\n",
    "\"Aaron_Pena_0001.pgm\",\n",
    "\"Aaron_Sorkin_0001.pgm\"]"
   ]
  },
  {
   "cell_type": "code",
   "execution_count": 6,
   "metadata": {},
   "outputs": [],
   "source": [
    "for s in samples:\n",
    "    image = PIL.Image.open(join(dataset_path, s))\n",
    "    image.save(s[:-4] + \".png\")"
   ]
  },
  {
   "cell_type": "code",
   "execution_count": 7,
   "metadata": {},
   "outputs": [
    {
     "name": "stdout",
     "output_type": "stream",
     "text": [
      "(1000, 32)\n",
      "(1000, 4096)\n",
      "(1000, 128)\n",
      "(1000, 4096)\n",
      "(1000, 512)\n",
      "(1000, 4096)\n"
     ]
    }
   ],
   "source": [
    "# Draw reconstructed\n",
    "samples_idx = [0,1,2,3,7,8]\n",
    "k_set = [32,128,512]\n",
    "\n",
    "for k in k_set:\n",
    "    # Apply PCA\n",
    "    pca = PCA(k)\n",
    "    covariance = pca.fit_transform(x)\n",
    "    \n",
    "    # To reconstruct the images, do inverse transform\n",
    "    proj = pca.inverse_transform(covariance)\n",
    "    for i in samples_idx:\n",
    "        new_im = Image.fromarray(np.uint8(np.reshape(proj[i],(64,64))), 'L')\n",
    "        new_im.save(str(i) + '_' + str(k) + '.png')"
   ]
  },
  {
   "cell_type": "code",
   "execution_count": 14,
   "metadata": {},
   "outputs": [
    {
     "name": "stdout",
     "output_type": "stream",
     "text": [
      "(6, 4096)\n"
     ]
    }
   ],
   "source": [
    "# First 6 eigen faces\n",
    "pca = PCA(6)\n",
    "pca.fit(x)\n",
    "covariance = pca.transform(x) \n",
    "print(np.shape(pca.components_))\n",
    "eigen_faces = pca.components_\n",
    "\n",
    "for i in range(6):\n",
    "    plt.imsave('eigen_face' + str(i) + '.png', eigen_faces[i].reshape(64,64), cmap='gray')"
   ]
  },
  {
   "cell_type": "code",
   "execution_count": 38,
   "metadata": {},
   "outputs": [
    {
     "data": {
      "text/plain": [
       "0.95014111366107"
      ]
     },
     "execution_count": 38,
     "metadata": {},
     "output_type": "execute_result"
    }
   ],
   "source": [
    "pca = PCA(146)\n",
    "covariance = pca.fit_transform(x)\n",
    "np.sum(pca.explained_variance_ratio_)"
   ]
  }
 ],
 "metadata": {
  "kernelspec": {
   "display_name": "Python 3",
   "language": "python",
   "name": "python3"
  },
  "language_info": {
   "codemirror_mode": {
    "name": "ipython",
    "version": 3
   },
   "file_extension": ".py",
   "mimetype": "text/x-python",
   "name": "python",
   "nbconvert_exporter": "python",
   "pygments_lexer": "ipython3",
   "version": "3.5.6"
  }
 },
 "nbformat": 4,
 "nbformat_minor": 2
}

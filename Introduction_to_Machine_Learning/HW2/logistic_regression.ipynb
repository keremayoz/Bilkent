{
 "cells": [
  {
   "cell_type": "code",
   "execution_count": 1,
   "metadata": {},
   "outputs": [],
   "source": [
    "import numpy as np\n",
    "import pandas as pd\n",
    "import matplotlib.pyplot as plt\n",
    "import math"
   ]
  },
  {
   "cell_type": "code",
   "execution_count": 2,
   "metadata": {},
   "outputs": [],
   "source": [
    "# Load the dataset\n",
    "test_feature = pd.read_csv(\"question-2-test-features.csv\", header=None)\n",
    "test_label = pd.read_csv(\"question-2-test-labels.csv\", header=None)\n",
    "train_feature = pd.read_csv(\"question-2-train-features.csv\", header=None)\n",
    "train_label = pd.read_csv(\"question-2-train-labels.csv\", header=None);"
   ]
  },
  {
   "cell_type": "code",
   "execution_count": 3,
   "metadata": {},
   "outputs": [],
   "source": [
    "def append_one(x):\n",
    "    b = np.ones((np.shape(x)[0],np.shape(x)[1]+1))\n",
    "    b[:,1:] = x\n",
    "    return b\n",
    "\n",
    "def sigmoid(x):\n",
    "    return 1 / (1 + np.exp(-x))\n",
    "\n",
    "def div(n, d):\n",
    "    return n / d if d else 0"
   ]
  },
  {
   "cell_type": "code",
   "execution_count": 4,
   "metadata": {},
   "outputs": [],
   "source": [
    "# Obtain training data and label\n",
    "x_train = append_one(train_feature.values)\n",
    "y_train = train_label.values\n",
    "y_train[y_train < 190] = 0 \n",
    "y_train[y_train >= 190] = 1\n",
    "y_train = np.transpose(y_train)[0]"
   ]
  },
  {
   "cell_type": "code",
   "execution_count": 5,
   "metadata": {},
   "outputs": [],
   "source": [
    "# Obtain test data and label\n",
    "x_test = append_one(test_feature.values)\n",
    "y_test = test_label.values\n",
    "y_test[y_test < 190] = 0 \n",
    "y_test[y_test >= 190] = 1\n",
    "y_test = np.transpose(y_test)[0]"
   ]
  },
  {
   "cell_type": "code",
   "execution_count": 6,
   "metadata": {},
   "outputs": [],
   "source": [
    "############################################### LOGISTIC REGRESSION ############################################################"
   ]
  },
  {
   "cell_type": "code",
   "execution_count": 7,
   "metadata": {},
   "outputs": [],
   "source": [
    "def logistic_regression(x_train,y_train,x_test,y_test,epoch,batch_size,learning_rate):\n",
    "    weights = np.zeros(x_train.shape[1])\n",
    "    sample_count = x_train.shape[0]\n",
    "    # Gradient Ascent\n",
    "    for e in range(epoch):\n",
    "        gradient = 0\n",
    "        for i in range(sample_count):\n",
    "            difference = y_train[i] - sigmoid(np.dot(x_train[i],weights))\n",
    "            gradient += np.dot(x_train[i].T, difference)\n",
    "            if (i != 0 and i%batch_size == 0) or i == sample_count-1:\n",
    "                weights += learning_rate*gradient\n",
    "                gradient = 0             \n",
    "    return weights"
   ]
  },
  {
   "cell_type": "code",
   "execution_count": 8,
   "metadata": {},
   "outputs": [],
   "source": [
    "def calculate_performance(x,y,weights,is_test):\n",
    "    y_pred = np.dot(x,weights)\n",
    "    y_pred[y_pred >= 0] = 1\n",
    "    y_pred[y_pred < 0] = 0\n",
    "    accuracy = np.sum(y_pred==y) / len(y) * 100\n",
    "    if not is_test:\n",
    "        print(\"Training accuracy = \" + str(accuracy))\n",
    "    else:\n",
    "        print(\"Test accuracy = \" + str(accuracy))\n",
    "        # Confusion Matrix values\n",
    "        tp = int(np.sum(y_pred * y))\n",
    "        tn = int(np.sum(y_pred+y==0))\n",
    "        fp = int(np.sum(y_pred-y==1))\n",
    "        fn = int(np.sum(y-y_pred==1))\n",
    "        \n",
    "        print(\"True Positive: \" + str(tp))\n",
    "        print(\"True Negative: \" + str(tn))\n",
    "        print(\"False Positive: \" + str(fp))\n",
    "        print(\"False Negative: \" + str(fn))\n",
    "        print(\"Total = \" + str(tp+fp+fn+tn))\n",
    "        print(\"Precision: \" + str(div(tp,(tp+fp))))\n",
    "        print(\"Recall: \" + str(div(tp,(tp+fn))))\n",
    "        print(\"NPV: \" + str(div(tn,(tn+fn))))\n",
    "        print(\"FPR: \" + str(div(fp,(fp+tn))))\n",
    "        print(\"FDR: \" + str(div(fp,(tp+fp))))\n",
    "        print(\"F1: \" + str( div( (2*div(tp,(tp+fp))), (div(tp,(tp+fp))+div(tp,(tp+fn)))   ) ) )\n",
    "        print(\"F2: \" + str( div( (5*div(tp,(tp+fp))), (4*div(tp,(tp+fp))+div(tp,(tp+fn)))   ) ) )\n",
    "        print()\n",
    "    return y_pred"
   ]
  },
  {
   "cell_type": "code",
   "execution_count": 9,
   "metadata": {},
   "outputs": [],
   "source": [
    "################################################# PERFORMANCE ##############################################################"
   ]
  },
  {
   "cell_type": "code",
   "execution_count": 15,
   "metadata": {},
   "outputs": [],
   "source": [
    "learning_rates = [1e-3, 1e-2, 1e-1]"
   ]
  },
  {
   "cell_type": "code",
   "execution_count": 16,
   "metadata": {},
   "outputs": [
    {
     "name": "stdout",
     "output_type": "stream",
     "text": [
      "Learning rate = 0.001\n",
      "Training accuracy = 63.07142857142857\n",
      "Test accuracy = 47.75014801657786\n",
      "True Positive: 0\n",
      "True Negative: 1613\n",
      "False Positive: 0\n",
      "False Negative: 1765\n",
      "Total = 3378\n",
      "Precision: 0\n",
      "Recall: 0.0\n",
      "NPV: 0.4775014801657786\n",
      "FPR: 0.0\n",
      "FDR: 0\n",
      "F1: 0\n",
      "F2: 0\n",
      "\n",
      "Learning rate = 0.01\n",
      "Training accuracy = 63.07142857142857\n",
      "Test accuracy = 47.75014801657786\n",
      "True Positive: 0\n",
      "True Negative: 1613\n",
      "False Positive: 0\n",
      "False Negative: 1765\n",
      "Total = 3378\n",
      "Precision: 0\n",
      "Recall: 0.0\n",
      "NPV: 0.4775014801657786\n",
      "FPR: 0.0\n",
      "FDR: 0\n",
      "F1: 0\n",
      "F2: 0\n",
      "\n",
      "Learning rate = 0.1\n",
      "Training accuracy = 63.07142857142857\n",
      "Test accuracy = 47.75014801657786\n",
      "True Positive: 0\n",
      "True Negative: 1613\n",
      "False Positive: 0\n",
      "False Negative: 1765\n",
      "Total = 3378\n",
      "Precision: 0\n",
      "Recall: 0.0\n",
      "NPV: 0.4775014801657786\n",
      "FPR: 0.0\n",
      "FDR: 0\n",
      "F1: 0\n",
      "F2: 0\n",
      "\n"
     ]
    }
   ],
   "source": [
    "# Full Batch\n",
    "\n",
    "for i in range(len(learning_rates)):\n",
    "    print(\"Learning rate = \" + str(learning_rates[i]))\n",
    "    w = logistic_regression(x_train,y_train,x_test,y_test,epoch=1000,batch_size=14000,learning_rate=learning_rates[i])\n",
    "    calculate_performance(x_train,y_train,w,False)\n",
    "    calculate_performance(x_test,y_test,w,True)"
   ]
  },
  {
   "cell_type": "code",
   "execution_count": 20,
   "metadata": {},
   "outputs": [],
   "source": [
    "optimal_learning_rate = 0.001"
   ]
  },
  {
   "cell_type": "code",
   "execution_count": 21,
   "metadata": {},
   "outputs": [
    {
     "name": "stdout",
     "output_type": "stream",
     "text": [
      "Training accuracy = 68.79285714285714\n",
      "Test accuracy = 76.79100059206631\n",
      "True Positive: 1398\n",
      "True Negative: 1196\n",
      "False Positive: 417\n",
      "False Negative: 367\n",
      "Total = 3378\n",
      "Precision: 0.7702479338842976\n",
      "Recall: 0.7920679886685552\n",
      "NPV: 0.7651951375559821\n",
      "FPR: 0.25852448853068816\n",
      "FDR: 0.22975206611570248\n",
      "F1: 0.9860335195530727\n",
      "F2: 0.9943661971830985\n",
      "\n"
     ]
    },
    {
     "data": {
      "text/plain": [
       "array([1., 1., 1., ..., 1., 1., 1.])"
      ]
     },
     "execution_count": 21,
     "metadata": {},
     "output_type": "execute_result"
    }
   ],
   "source": [
    "# Mini Batch\n",
    "w = logistic_regression(x_train,y_train,x_test,y_test,epoch=1000,batch_size=32,learning_rate=optimal_learning_rate)\n",
    "calculate_performance(x_train,y_train,w,False)\n",
    "calculate_performance(x_test,y_test,w,True)"
   ]
  }
 ],
 "metadata": {
  "kernelspec": {
   "display_name": "Python 3",
   "language": "python",
   "name": "python3"
  },
  "language_info": {
   "codemirror_mode": {
    "name": "ipython",
    "version": 3
   },
   "file_extension": ".py",
   "mimetype": "text/x-python",
   "name": "python",
   "nbconvert_exporter": "python",
   "pygments_lexer": "ipython3",
   "version": "3.5.6"
  }
 },
 "nbformat": 4,
 "nbformat_minor": 2
}
